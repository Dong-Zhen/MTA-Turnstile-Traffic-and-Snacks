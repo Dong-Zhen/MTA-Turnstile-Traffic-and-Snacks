{
 "cells": [
  {
   "cell_type": "markdown",
   "metadata": {},
   "source": [
    "# Objective\n",
    "\n",
    "Help a nonprofit organization YoLocal Snack find three potential locations to open up shop. Our goal is to find the the stations with the highest entries and exits during meal hours. To cater towards our target market of New Yorkers with long commutes, we will establish filters that indicate long commutes.\n",
    "\n",
    "Long Commute Indicators:\n",
    "\n",
    "1. Boroughs Outside of the City\n",
    "2. Stations with only one or two subway lines\n",
    "3. Number of unlimited and student metros cards used \n",
    "\n",
    "After filtering and identifying potential stations, we can do a hand check of these stations by opening up Google Maps to visualize the number of local food stores near the station. Google's activity tracker can also reveal if traffic within these stores are higher during meal hours. In the future, YoLocal Snack will work with these vendors to efficiently cater to the local commuters. \n"
   ]
  },
  {
   "cell_type": "markdown",
   "metadata": {},
   "source": [
    "# Gathering Data\n",
    "\n",
    "I will use mta data from January 2021 to April 2021 as the basis of my analysis. This is a good time frame to look at New York's commuter cycle. Students go back to school in January and workers resume work after major holidays. \n",
    "\n",
    "To reinforce consistency, I gathered data for January to April from previous years to be used for comparison with traffic in 2021. If stations remain consistently busy during meal hours for the last three years, then they are great choices for YoLocal Snack to open a store. \n",
    "\n",
    "Datasets stored: \n",
    "\n",
    "- Mta Location Data\n",
    "- Mta Turnstile Data January to April 2019 - 2021\n",
    "- Mta Fare Data January to April 2019 - 2021"
   ]
  },
  {
   "cell_type": "code",
   "execution_count": 2,
   "metadata": {},
   "outputs": [],
   "source": [
    "from sqlalchemy import create_engine\n",
    "import urllib.request\n",
    "import pandas as pd\n",
    "import matplotlib.pyplot as plt\n",
    "import seaborn as sns\n",
    "import numpy as np\n",
    "import datetime \n",
    "from datetime import timedelta\n",
    "%config InlineBackend.figure_format = 'svg'\n",
    "%matplotlib inline \n",
    "\n",
    "turnstile_url = \"http://web.mta.info/developers/data/nyct/turnstile/turnstile_{}.txt\"\n",
    "fare_url = \"http://web.mta.info/developers/data/nyct/fares/fares_{}.csv\"\n",
    "location_url = \"https://atisdata.s3.amazonaws.com/Station/Stations.csv\""
   ]
  },
  {
   "cell_type": "code",
   "execution_count": 3,
   "metadata": {},
   "outputs": [],
   "source": [
    "pd.set_option('display.max.colwidth', None)"
   ]
  },
  {
   "cell_type": "markdown",
   "metadata": {},
   "source": [
    "```def get_serial_date(start_date, end_date, month):\n",
    "    week_nums = []\n",
    "    date = datetime.date(*start_date)\n",
    "    end_date = datetime.date(*end_date)\n",
    "    delta = timedelta(weeks = 1)\n",
    "    while date <= end_date:\n",
    "        date_month = date.month\n",
    "        if date_month in month:\n",
    "            week_nums.append(date.strftime(\"%y%m%d\"))\n",
    "        date += delta\n",
    "    return week_nums```"
   ]
  },
  {
   "cell_type": "code",
   "execution_count": 4,
   "metadata": {},
   "outputs": [],
   "source": [
    "engine = create_engine(\"sqlite:///Data/mta.db\")\n",
    "turnstile_df_21 = pd.read_sql(\"SELECT * FROM turnstile_data WHERE DATE LIKE '%2021';\", engine)"
   ]
  },
  {
   "cell_type": "code",
   "execution_count": 5,
   "metadata": {},
   "outputs": [
    {
     "name": "stdout",
     "output_type": "stream",
     "text": [
      "<class 'pandas.core.frame.DataFrame'>\n",
      "RangeIndex: 3377520 entries, 0 to 3377519\n",
      "Data columns (total 11 columns):\n",
      " #   Column                                                                Dtype \n",
      "---  ------                                                                ----- \n",
      " 0   C/A                                                                   object\n",
      " 1   UNIT                                                                  object\n",
      " 2   SCP                                                                   object\n",
      " 3   STATION                                                               object\n",
      " 4   LINENAME                                                              object\n",
      " 5   DIVISION                                                              object\n",
      " 6   DATE                                                                  object\n",
      " 7   TIME                                                                  object\n",
      " 8   DESC                                                                  object\n",
      " 9   ENTRIES                                                               object\n",
      " 10  EXITS                                                                 object\n",
      "dtypes: object(11)\n",
      "memory usage: 283.5+ MB\n"
     ]
    }
   ],
   "source": [
    "turnstile_df_21.info()"
   ]
  },
  {
   "cell_type": "code",
   "execution_count": 6,
   "metadata": {},
   "outputs": [],
   "source": [
    "turnstile_df_21.columns = turnstile_df_21.columns.str.replace(' ','')"
   ]
  },
  {
   "cell_type": "code",
   "execution_count": 7,
   "metadata": {},
   "outputs": [],
   "source": [
    "mta_dfs = [turnstile_df_21]\n",
    "#mta_dfs = [turnstile_df_19, turnstile_df_20, turnstile_df_21]\n",
    "\n",
    "for mta_df in mta_dfs:\n",
    "    \n",
    "    mta_df['DATETIME'] = pd.to_datetime(mta_df.DATE + \" \" + mta_df.TIME, \n",
    "                                        format=\"%m/%d/%Y %H:%M:%S\")\n",
    "    \n",
    "    mta_df['TURNSTILES'] = mta_df['C/A'] + \" - \" +\\\n",
    "                           mta_df['UNIT'] + \" - \" +\\\n",
    "                           mta_df['SCP'] + \" - \" +\\\n",
    "                           mta_df['STATION'] "
   ]
  },
  {
   "cell_type": "code",
   "execution_count": 8,
   "metadata": {},
   "outputs": [],
   "source": [
    "turnstile_df_21 = turnstile_df_21[['TURNSTILES', 'C/A', 'UNIT', 'SCP', 'STATION', 'LINENAME', 'DATETIME', 'DATE', 'TIME',\n",
    "                   'ENTRIES', 'EXITS']]"
   ]
  },
  {
   "cell_type": "code",
   "execution_count": 14,
   "metadata": {},
   "outputs": [
    {
     "name": "stderr",
     "output_type": "stream",
     "text": [
      "<ipython-input-14-0b1dfa15275e>:1: SettingWithCopyWarning: \n",
      "A value is trying to be set on a copy of a slice from a DataFrame.\n",
      "Try using .loc[row_indexer,col_indexer] = value instead\n",
      "\n",
      "See the caveats in the documentation: https://pandas.pydata.org/pandas-docs/stable/user_guide/indexing.html#returning-a-view-versus-a-copy\n",
      "  turnstile_df_21['ENTRIES'] = turnstile_df_21['ENTRIES'].astype('int')\n",
      "<ipython-input-14-0b1dfa15275e>:2: SettingWithCopyWarning: \n",
      "A value is trying to be set on a copy of a slice from a DataFrame.\n",
      "Try using .loc[row_indexer,col_indexer] = value instead\n",
      "\n",
      "See the caveats in the documentation: https://pandas.pydata.org/pandas-docs/stable/user_guide/indexing.html#returning-a-view-versus-a-copy\n",
      "  turnstile_df_21['EXITS'] = turnstile_df_21['EXITS'].astype('int')\n"
     ]
    }
   ],
   "source": [
    "turnstile_df_21['ENTRIES'] = turnstile_df_21['ENTRIES'].astype('int')\n",
    "turnstile_df_21['EXITS'] = turnstile_df_21['EXITS'].astype('int')"
   ]
  },
  {
   "cell_type": "code",
   "execution_count": 11,
   "metadata": {},
   "outputs": [
    {
     "name": "stderr",
     "output_type": "stream",
     "text": [
      "<ipython-input-11-f0527454c1ba>:1: FutureWarning: Treating datetime data as categorical rather than numeric in `.describe` is deprecated and will be removed in a future version of pandas. Specify `datetime_is_numeric=True` to silence this warning and adopt the future behavior now.\n",
      "  turnstile_df_21.describe()\n"
     ]
    },
    {
     "data": {
      "text/html": [
       "<div>\n",
       "<style scoped>\n",
       "    .dataframe tbody tr th:only-of-type {\n",
       "        vertical-align: middle;\n",
       "    }\n",
       "\n",
       "    .dataframe tbody tr th {\n",
       "        vertical-align: top;\n",
       "    }\n",
       "\n",
       "    .dataframe thead th {\n",
       "        text-align: right;\n",
       "    }\n",
       "</style>\n",
       "<table border=\"1\" class=\"dataframe\">\n",
       "  <thead>\n",
       "    <tr style=\"text-align: right;\">\n",
       "      <th></th>\n",
       "      <th>TURNSTILES</th>\n",
       "      <th>C/A</th>\n",
       "      <th>UNIT</th>\n",
       "      <th>SCP</th>\n",
       "      <th>STATION</th>\n",
       "      <th>LINENAME</th>\n",
       "      <th>DATETIME</th>\n",
       "      <th>DATE</th>\n",
       "      <th>TIME</th>\n",
       "      <th>ENTRIES</th>\n",
       "      <th>EXITS</th>\n",
       "    </tr>\n",
       "  </thead>\n",
       "  <tbody>\n",
       "    <tr>\n",
       "      <th>count</th>\n",
       "      <td>3377520</td>\n",
       "      <td>3377520</td>\n",
       "      <td>3377520</td>\n",
       "      <td>3377520</td>\n",
       "      <td>3377520</td>\n",
       "      <td>3377520</td>\n",
       "      <td>3377520</td>\n",
       "      <td>3377520</td>\n",
       "      <td>3377520</td>\n",
       "      <td>3377520</td>\n",
       "      <td>3377520</td>\n",
       "    </tr>\n",
       "    <tr>\n",
       "      <th>unique</th>\n",
       "      <td>5056</td>\n",
       "      <td>749</td>\n",
       "      <td>468</td>\n",
       "      <td>226</td>\n",
       "      <td>378</td>\n",
       "      <td>114</td>\n",
       "      <td>216474</td>\n",
       "      <td>113</td>\n",
       "      <td>62524</td>\n",
       "      <td>2127757</td>\n",
       "      <td>2686004</td>\n",
       "    </tr>\n",
       "    <tr>\n",
       "      <th>top</th>\n",
       "      <td>N339A - R114 - 00-00-00 - PARSONS BLVD</td>\n",
       "      <td>PTH22</td>\n",
       "      <td>R549</td>\n",
       "      <td>00-00-00</td>\n",
       "      <td>34 ST-PENN STA</td>\n",
       "      <td>1</td>\n",
       "      <td>2021-04-05 08:00:00</td>\n",
       "      <td>01/01/2021</td>\n",
       "      <td>04:00:00</td>\n",
       "      <td>0000000000</td>\n",
       "      <td>0000000000</td>\n",
       "    </tr>\n",
       "    <tr>\n",
       "      <th>freq</th>\n",
       "      <td>810</td>\n",
       "      <td>29007</td>\n",
       "      <td>46309</td>\n",
       "      <td>313237</td>\n",
       "      <td>69058</td>\n",
       "      <td>413514</td>\n",
       "      <td>2562</td>\n",
       "      <td>30696</td>\n",
       "      <td>239910</td>\n",
       "      <td>47280</td>\n",
       "      <td>14505</td>\n",
       "    </tr>\n",
       "    <tr>\n",
       "      <th>first</th>\n",
       "      <td>NaN</td>\n",
       "      <td>NaN</td>\n",
       "      <td>NaN</td>\n",
       "      <td>NaN</td>\n",
       "      <td>NaN</td>\n",
       "      <td>NaN</td>\n",
       "      <td>2021-01-01 00:00:00</td>\n",
       "      <td>NaN</td>\n",
       "      <td>NaN</td>\n",
       "      <td>NaN</td>\n",
       "      <td>NaN</td>\n",
       "    </tr>\n",
       "    <tr>\n",
       "      <th>last</th>\n",
       "      <td>NaN</td>\n",
       "      <td>NaN</td>\n",
       "      <td>NaN</td>\n",
       "      <td>NaN</td>\n",
       "      <td>NaN</td>\n",
       "      <td>NaN</td>\n",
       "      <td>2021-04-23 23:59:55</td>\n",
       "      <td>NaN</td>\n",
       "      <td>NaN</td>\n",
       "      <td>NaN</td>\n",
       "      <td>NaN</td>\n",
       "    </tr>\n",
       "  </tbody>\n",
       "</table>\n",
       "</div>"
      ],
      "text/plain": [
       "                                    TURNSTILES      C/A     UNIT       SCP  \\\n",
       "count                                  3377520  3377520  3377520   3377520   \n",
       "unique                                    5056      749      468       226   \n",
       "top     N339A - R114 - 00-00-00 - PARSONS BLVD    PTH22     R549  00-00-00   \n",
       "freq                                       810    29007    46309    313237   \n",
       "first                                      NaN      NaN      NaN       NaN   \n",
       "last                                       NaN      NaN      NaN       NaN   \n",
       "\n",
       "               STATION LINENAME             DATETIME        DATE      TIME  \\\n",
       "count          3377520  3377520              3377520     3377520   3377520   \n",
       "unique             378      114               216474         113     62524   \n",
       "top     34 ST-PENN STA        1  2021-04-05 08:00:00  01/01/2021  04:00:00   \n",
       "freq             69058   413514                 2562       30696    239910   \n",
       "first              NaN      NaN  2021-01-01 00:00:00         NaN       NaN   \n",
       "last               NaN      NaN  2021-04-23 23:59:55         NaN       NaN   \n",
       "\n",
       "           ENTRIES                                               EXITS  \n",
       "count      3377520                                             3377520  \n",
       "unique     2127757                                             2686004  \n",
       "top     0000000000  0000000000                                          \n",
       "freq         47280                                               14505  \n",
       "first          NaN                                                 NaN  \n",
       "last           NaN                                                 NaN  "
      ]
     },
     "execution_count": 11,
     "metadata": {},
     "output_type": "execute_result"
    }
   ],
   "source": [
    "turnstile_df_21.describe()"
   ]
  },
  {
   "cell_type": "code",
   "execution_count": 13,
   "metadata": {},
   "outputs": [
    {
     "name": "stderr",
     "output_type": "stream",
     "text": [
      "<ipython-input-13-36887db081db>:1: FutureWarning: Indexing with multiple keys (implicitly converted to a tuple of keys) will be deprecated, use a list instead.\n",
      "  (turnstile_df_21.groupby(['TURNSTILES','DATETIME'])\n"
     ]
    },
    {
     "data": {
      "text/html": [
       "<div>\n",
       "<style scoped>\n",
       "    .dataframe tbody tr th:only-of-type {\n",
       "        vertical-align: middle;\n",
       "    }\n",
       "\n",
       "    .dataframe tbody tr th {\n",
       "        vertical-align: top;\n",
       "    }\n",
       "\n",
       "    .dataframe thead th {\n",
       "        text-align: right;\n",
       "    }\n",
       "</style>\n",
       "<table border=\"1\" class=\"dataframe\">\n",
       "  <thead>\n",
       "    <tr style=\"text-align: right;\">\n",
       "      <th></th>\n",
       "      <th>TURNSTILES</th>\n",
       "      <th>DATETIME</th>\n",
       "      <th>ENTRIES</th>\n",
       "      <th>EXITS</th>\n",
       "    </tr>\n",
       "  </thead>\n",
       "  <tbody>\n",
       "    <tr>\n",
       "      <th>304390</th>\n",
       "      <td>B028 - R136 - 01-00-01 - SHEEPSHEAD BAY</td>\n",
       "      <td>2021-01-08 04:00:00</td>\n",
       "      <td>2</td>\n",
       "      <td>2</td>\n",
       "    </tr>\n",
       "    <tr>\n",
       "      <th>912572</th>\n",
       "      <td>N071 - R013 - 00-00-00 - 34 ST-PENN STA</td>\n",
       "      <td>2021-04-08 08:00:00</td>\n",
       "      <td>2</td>\n",
       "      <td>2</td>\n",
       "    </tr>\n",
       "    <tr>\n",
       "      <th>913251</th>\n",
       "      <td>N071 - R013 - 00-00-01 - 34 ST-PENN STA</td>\n",
       "      <td>2021-04-08 08:00:00</td>\n",
       "      <td>2</td>\n",
       "      <td>2</td>\n",
       "    </tr>\n",
       "    <tr>\n",
       "      <th>913930</th>\n",
       "      <td>N071 - R013 - 00-00-02 - 34 ST-PENN STA</td>\n",
       "      <td>2021-04-08 08:00:00</td>\n",
       "      <td>2</td>\n",
       "      <td>2</td>\n",
       "    </tr>\n",
       "    <tr>\n",
       "      <th>914609</th>\n",
       "      <td>N071 - R013 - 00-00-03 - 34 ST-PENN STA</td>\n",
       "      <td>2021-04-08 08:00:00</td>\n",
       "      <td>2</td>\n",
       "      <td>2</td>\n",
       "    </tr>\n",
       "  </tbody>\n",
       "</table>\n",
       "</div>"
      ],
      "text/plain": [
       "                                     TURNSTILES            DATETIME  ENTRIES  \\\n",
       "304390  B028 - R136 - 01-00-01 - SHEEPSHEAD BAY 2021-01-08 04:00:00        2   \n",
       "912572  N071 - R013 - 00-00-00 - 34 ST-PENN STA 2021-04-08 08:00:00        2   \n",
       "913251  N071 - R013 - 00-00-01 - 34 ST-PENN STA 2021-04-08 08:00:00        2   \n",
       "913930  N071 - R013 - 00-00-02 - 34 ST-PENN STA 2021-04-08 08:00:00        2   \n",
       "914609  N071 - R013 - 00-00-03 - 34 ST-PENN STA 2021-04-08 08:00:00        2   \n",
       "\n",
       "        EXITS  \n",
       "304390      2  \n",
       "912572      2  \n",
       "913251      2  \n",
       "913930      2  \n",
       "914609      2  "
      ]
     },
     "execution_count": 13,
     "metadata": {},
     "output_type": "execute_result"
    }
   ],
   "source": [
    "(turnstile_df_21.groupby(['TURNSTILES','DATETIME'])\n",
    "['ENTRIES', 'EXITS'].count()\n",
    ".reset_index()\n",
    ".sort_values([\"ENTRIES\", \"EXITS\"], ascending=False)).head()"
   ]
  },
  {
   "cell_type": "code",
   "execution_count": 17,
   "metadata": {},
   "outputs": [
    {
     "data": {
      "text/plain": [
       "count    3.377520e+06\n",
       "mean     4.215707e+07\n",
       "std      2.186629e+08\n",
       "min      0.000000e+00\n",
       "25%      2.253830e+05\n",
       "50%      1.505995e+06\n",
       "75%      6.173308e+06\n",
       "max      2.147432e+09\n",
       "Name: ENTRIES, dtype: float64"
      ]
     },
     "execution_count": 17,
     "metadata": {},
     "output_type": "execute_result"
    }
   ],
   "source": [
    "turnstile_df_21['ENTRIES'].describe()"
   ]
  },
  {
   "cell_type": "code",
   "execution_count": 18,
   "metadata": {},
   "outputs": [
    {
     "data": {
      "text/plain": [
       "count    3.377520e+06\n",
       "mean     3.392197e+07\n",
       "std      1.943887e+08\n",
       "min      0.000000e+00\n",
       "25%      9.431400e+04\n",
       "50%      9.045045e+05\n",
       "75%      4.055988e+06\n",
       "max      2.123068e+09\n",
       "Name: EXITS, dtype: float64"
      ]
     },
     "execution_count": 18,
     "metadata": {},
     "output_type": "execute_result"
    }
   ],
   "source": [
    "turnstile_df_21['EXITS'].describe()"
   ]
  },
  {
   "cell_type": "markdown",
   "metadata": {},
   "source": [
    "# DATA CLEANING Part 1\n",
    "\n",
    "A quick exploration of the dataset reveals many cleaning tasks. There are a number of duplicate rows, the exits and entries columns contain outliers that are far from the mean, the time column reveals 62524 instead of the expected 14. The entries and exits columns show cumulative values instead of the number of entries at that point in time. \n",
    "\n",
    "The next steps will include:\n",
    "1. Remove the duplicate values \n",
    "2. Locate the outliers and save their indexes. Use the unique identifiers to replace the outlier values with numbers from a previous year if traffic patterns are similar to current.\n",
    "3. Check the unique time values \n",
    "4. Calculate the number of entries and exits  "
   ]
  },
  {
   "cell_type": "code",
   "execution_count": 21,
   "metadata": {},
   "outputs": [
    {
     "name": "stderr",
     "output_type": "stream",
     "text": [
      "<ipython-input-21-4b96d47de188>:1: SettingWithCopyWarning: \n",
      "A value is trying to be set on a copy of a slice from a DataFrame\n",
      "\n",
      "See the caveats in the documentation: https://pandas.pydata.org/pandas-docs/stable/user_guide/indexing.html#returning-a-view-versus-a-copy\n",
      "  turnstile_df_21.sort_values(['TURNSTILES','DATETIME'],\n",
      "<ipython-input-21-4b96d47de188>:3: SettingWithCopyWarning: \n",
      "A value is trying to be set on a copy of a slice from a DataFrame\n",
      "\n",
      "See the caveats in the documentation: https://pandas.pydata.org/pandas-docs/stable/user_guide/indexing.html#returning-a-view-versus-a-copy\n",
      "  turnstile_df_21.drop_duplicates(subset = ['TURNSTILES', 'DATETIME'], keep = 'first',\n"
     ]
    }
   ],
   "source": [
    "turnstile_df_21.sort_values(['TURNSTILES','DATETIME'], \n",
    "                   ascending = True, inplace = True)\n",
    "turnstile_df_21.drop_duplicates(subset = ['TURNSTILES', 'DATETIME'], keep = 'first',\n",
    "                      inplace = True)"
   ]
  },
  {
   "cell_type": "code",
   "execution_count": 52,
   "metadata": {},
   "outputs": [
    {
     "data": {
      "text/plain": [
       "(63291, 11)"
      ]
     },
     "execution_count": 52,
     "metadata": {},
     "output_type": "execute_result"
    }
   ],
   "source": [
    "exit_mask_0 = (turnstile_df_21['EXITS'] == 0) & (turnstile_df_21['DATE'] > '03/01/2021')\n",
    "turnstile_df_21[exit_mask_0].shape"
   ]
  },
  {
   "cell_type": "code",
   "execution_count": 55,
   "metadata": {},
   "outputs": [
    {
     "data": {
      "text/plain": [
       "(22046, 11)"
      ]
     },
     "execution_count": 55,
     "metadata": {},
     "output_type": "execute_result"
    }
   ],
   "source": [
    "entry_mask_0 = (turnstile_df_21['ENTRIES'] == 0) & (turnstile_df_21['DATE'] > '03/01/2021')\n",
    "turnstile_df_21[entry_mask_0].shape"
   ]
  },
  {
   "cell_type": "code",
   "execution_count": 73,
   "metadata": {},
   "outputs": [
    {
     "data": {
      "text/plain": [
       "STATION          ENTRIES\n",
       "111 ST           0          319\n",
       "14 ST            0          316\n",
       "168 ST           0          408\n",
       "175 ST           0          632\n",
       "21 ST-QNSBRIDGE  0          316\n",
       "                           ... \n",
       "THIRTY ST        0            1\n",
       "THIRTY THIRD ST  0          303\n",
       "UTICA AV         0          328\n",
       "W 4 ST-WASH SQ   0            9\n",
       "W 8 ST-AQUARIUM  0           44\n",
       "Name: ENTRIES, Length: 71, dtype: int64"
      ]
     },
     "execution_count": 73,
     "metadata": {},
     "output_type": "execute_result"
    }
   ],
   "source": [
    "turnstile_df_21[entry_mask_0].groupby('STATION')['ENTRIES'].value_counts()\n"
   ]
  },
  {
   "cell_type": "code",
   "execution_count": null,
   "metadata": {},
   "outputs": [],
   "source": [
    "#Think about what to do with turnstiles with zero. We can exclude the stations if they are coming from stations with low traffic and if there are a lot of zero entries within March 1st, 2021.\n",
    "#turnstile_df_21_not_performing = pd.concat(turnstile_df_21[exit_mask_0],entry_mask_0)"
   ]
  },
  {
   "cell_type": "code",
   "execution_count": null,
   "metadata": {},
   "outputs": [],
   "source": [
    "#Identify irregular entries with over a billion values. Exclude if they're coming from low traffic stations or replace them with 2020's or 2019's values. \n",
    "#mta_df['irr_entry']=mta_df['ENTRIES'].apply(lambda x: len(str(x))==10) \n",
    "#irr_entry_df = mta_df[mta_df['irr_entry'] == True]"
   ]
  },
  {
   "cell_type": "code",
   "execution_count": 79,
   "metadata": {},
   "outputs": [
    {
     "data": {
      "text/plain": [
       "04:00:00    239909\n",
       "16:00:00    239882\n",
       "08:00:00    239879\n",
       "12:00:00    239858\n",
       "20:00:00    239783\n",
       "             ...  \n",
       "20:24:56         1\n",
       "14:52:35         1\n",
       "23:15:51         1\n",
       "22:03:50         1\n",
       "22:01:16         1\n",
       "Name: TIME, Length: 62524, dtype: int64"
      ]
     },
     "execution_count": 79,
     "metadata": {},
     "output_type": "execute_result"
    }
   ],
   "source": [
    "turnstile_df_21['TIME'].value_counts()"
   ]
  },
  {
   "cell_type": "code",
   "execution_count": 80,
   "metadata": {},
   "outputs": [],
   "source": [
    "#Examine this time period closer. We'll need to reformat the time here."
   ]
  },
  {
   "cell_type": "code",
   "execution_count": 82,
   "metadata": {},
   "outputs": [
    {
     "name": "stderr",
     "output_type": "stream",
     "text": [
      "<ipython-input-82-6faeabeb3dcd>:1: FutureWarning: Indexing with multiple keys (implicitly converted to a tuple of keys) will be deprecated, use a list instead.\n",
      "  turnstile_df_21[[\"PREV_DATE\", \"PREV_ENTRIES\", \"PREV_EXITS\"]] = (turnstile_df_21\n",
      "/home/desbrium/anaconda3/lib/python3.8/site-packages/pandas/core/frame.py:3065: SettingWithCopyWarning: \n",
      "A value is trying to be set on a copy of a slice from a DataFrame.\n",
      "Try using .loc[row_indexer,col_indexer] = value instead\n",
      "\n",
      "See the caveats in the documentation: https://pandas.pydata.org/pandas-docs/stable/user_guide/indexing.html#returning-a-view-versus-a-copy\n",
      "  self[k1] = value[k2]\n"
     ]
    }
   ],
   "source": [
    "turnstile_df_21[[\"PREV_DATE\", \"PREV_ENTRIES\", \"PREV_EXITS\"]] = (turnstile_df_21\n",
    "                                                       .groupby([\"TURNSTILES\"])[\"DATE\", \"ENTRIES\", \"EXITS\"]\n",
    "                                                       .apply(lambda grp: grp.shift(1)))"
   ]
  },
  {
   "cell_type": "code",
   "execution_count": 83,
   "metadata": {},
   "outputs": [
    {
     "data": {
      "text/html": [
       "<div>\n",
       "<style scoped>\n",
       "    .dataframe tbody tr th:only-of-type {\n",
       "        vertical-align: middle;\n",
       "    }\n",
       "\n",
       "    .dataframe tbody tr th {\n",
       "        vertical-align: top;\n",
       "    }\n",
       "\n",
       "    .dataframe thead th {\n",
       "        text-align: right;\n",
       "    }\n",
       "</style>\n",
       "<table border=\"1\" class=\"dataframe\">\n",
       "  <thead>\n",
       "    <tr style=\"text-align: right;\">\n",
       "      <th></th>\n",
       "      <th>TURNSTILES</th>\n",
       "      <th>C/A</th>\n",
       "      <th>UNIT</th>\n",
       "      <th>SCP</th>\n",
       "      <th>STATION</th>\n",
       "      <th>LINENAME</th>\n",
       "      <th>DATETIME</th>\n",
       "      <th>DATE</th>\n",
       "      <th>TIME</th>\n",
       "      <th>ENTRIES</th>\n",
       "      <th>EXITS</th>\n",
       "      <th>PREV_DATE</th>\n",
       "      <th>PREV_ENTRIES</th>\n",
       "      <th>PREV_EXITS</th>\n",
       "    </tr>\n",
       "  </thead>\n",
       "  <tbody>\n",
       "    <tr>\n",
       "      <th>0</th>\n",
       "      <td>A002 - R051 - 02-00-00 - 59 ST</td>\n",
       "      <td>A002</td>\n",
       "      <td>R051</td>\n",
       "      <td>02-00-00</td>\n",
       "      <td>59 ST</td>\n",
       "      <td>NQR456W</td>\n",
       "      <td>2021-01-01 03:00:00</td>\n",
       "      <td>01/01/2021</td>\n",
       "      <td>03:00:00</td>\n",
       "      <td>7511448</td>\n",
       "      <td>2558786</td>\n",
       "      <td>NaN</td>\n",
       "      <td>NaN</td>\n",
       "      <td>NaN</td>\n",
       "    </tr>\n",
       "    <tr>\n",
       "      <th>1</th>\n",
       "      <td>A002 - R051 - 02-00-00 - 59 ST</td>\n",
       "      <td>A002</td>\n",
       "      <td>R051</td>\n",
       "      <td>02-00-00</td>\n",
       "      <td>59 ST</td>\n",
       "      <td>NQR456W</td>\n",
       "      <td>2021-01-01 07:00:00</td>\n",
       "      <td>01/01/2021</td>\n",
       "      <td>07:00:00</td>\n",
       "      <td>7511451</td>\n",
       "      <td>2558789</td>\n",
       "      <td>01/01/2021</td>\n",
       "      <td>7511448.0</td>\n",
       "      <td>2558786.0</td>\n",
       "    </tr>\n",
       "    <tr>\n",
       "      <th>2</th>\n",
       "      <td>A002 - R051 - 02-00-00 - 59 ST</td>\n",
       "      <td>A002</td>\n",
       "      <td>R051</td>\n",
       "      <td>02-00-00</td>\n",
       "      <td>59 ST</td>\n",
       "      <td>NQR456W</td>\n",
       "      <td>2021-01-01 11:00:00</td>\n",
       "      <td>01/01/2021</td>\n",
       "      <td>11:00:00</td>\n",
       "      <td>7511461</td>\n",
       "      <td>2558813</td>\n",
       "      <td>01/01/2021</td>\n",
       "      <td>7511451.0</td>\n",
       "      <td>2558789.0</td>\n",
       "    </tr>\n",
       "    <tr>\n",
       "      <th>3</th>\n",
       "      <td>A002 - R051 - 02-00-00 - 59 ST</td>\n",
       "      <td>A002</td>\n",
       "      <td>R051</td>\n",
       "      <td>02-00-00</td>\n",
       "      <td>59 ST</td>\n",
       "      <td>NQR456W</td>\n",
       "      <td>2021-01-01 15:00:00</td>\n",
       "      <td>01/01/2021</td>\n",
       "      <td>15:00:00</td>\n",
       "      <td>7511495</td>\n",
       "      <td>2558831</td>\n",
       "      <td>01/01/2021</td>\n",
       "      <td>7511461.0</td>\n",
       "      <td>2558813.0</td>\n",
       "    </tr>\n",
       "    <tr>\n",
       "      <th>4</th>\n",
       "      <td>A002 - R051 - 02-00-00 - 59 ST</td>\n",
       "      <td>A002</td>\n",
       "      <td>R051</td>\n",
       "      <td>02-00-00</td>\n",
       "      <td>59 ST</td>\n",
       "      <td>NQR456W</td>\n",
       "      <td>2021-01-01 19:00:00</td>\n",
       "      <td>01/01/2021</td>\n",
       "      <td>19:00:00</td>\n",
       "      <td>7511620</td>\n",
       "      <td>2558857</td>\n",
       "      <td>01/01/2021</td>\n",
       "      <td>7511495.0</td>\n",
       "      <td>2558831.0</td>\n",
       "    </tr>\n",
       "  </tbody>\n",
       "</table>\n",
       "</div>"
      ],
      "text/plain": [
       "                       TURNSTILES   C/A  UNIT       SCP STATION LINENAME  \\\n",
       "0  A002 - R051 - 02-00-00 - 59 ST  A002  R051  02-00-00   59 ST  NQR456W   \n",
       "1  A002 - R051 - 02-00-00 - 59 ST  A002  R051  02-00-00   59 ST  NQR456W   \n",
       "2  A002 - R051 - 02-00-00 - 59 ST  A002  R051  02-00-00   59 ST  NQR456W   \n",
       "3  A002 - R051 - 02-00-00 - 59 ST  A002  R051  02-00-00   59 ST  NQR456W   \n",
       "4  A002 - R051 - 02-00-00 - 59 ST  A002  R051  02-00-00   59 ST  NQR456W   \n",
       "\n",
       "             DATETIME        DATE      TIME  ENTRIES    EXITS   PREV_DATE  \\\n",
       "0 2021-01-01 03:00:00  01/01/2021  03:00:00  7511448  2558786         NaN   \n",
       "1 2021-01-01 07:00:00  01/01/2021  07:00:00  7511451  2558789  01/01/2021   \n",
       "2 2021-01-01 11:00:00  01/01/2021  11:00:00  7511461  2558813  01/01/2021   \n",
       "3 2021-01-01 15:00:00  01/01/2021  15:00:00  7511495  2558831  01/01/2021   \n",
       "4 2021-01-01 19:00:00  01/01/2021  19:00:00  7511620  2558857  01/01/2021   \n",
       "\n",
       "   PREV_ENTRIES  PREV_EXITS  \n",
       "0           NaN         NaN  \n",
       "1     7511448.0   2558786.0  \n",
       "2     7511451.0   2558789.0  \n",
       "3     7511461.0   2558813.0  \n",
       "4     7511495.0   2558831.0  "
      ]
     },
     "execution_count": 83,
     "metadata": {},
     "output_type": "execute_result"
    }
   ],
   "source": [
    "turnstile_df_21.head()"
   ]
  },
  {
   "cell_type": "code",
   "execution_count": 85,
   "metadata": {},
   "outputs": [
    {
     "name": "stderr",
     "output_type": "stream",
     "text": [
      "<ipython-input-85-527fcb2e3696>:1: SettingWithCopyWarning: \n",
      "A value is trying to be set on a copy of a slice from a DataFrame\n",
      "\n",
      "See the caveats in the documentation: https://pandas.pydata.org/pandas-docs/stable/user_guide/indexing.html#returning-a-view-versus-a-copy\n",
      "  turnstile_df_21.dropna(subset=[\"PREV_DATE\"], axis=0, inplace=True)\n"
     ]
    }
   ],
   "source": [
    "turnstile_df_21.dropna(subset=[\"PREV_DATE\"], axis=0, inplace=True)"
   ]
  },
  {
   "cell_type": "code",
   "execution_count": 86,
   "metadata": {},
   "outputs": [
    {
     "data": {
      "text/html": [
       "<div>\n",
       "<style scoped>\n",
       "    .dataframe tbody tr th:only-of-type {\n",
       "        vertical-align: middle;\n",
       "    }\n",
       "\n",
       "    .dataframe tbody tr th {\n",
       "        vertical-align: top;\n",
       "    }\n",
       "\n",
       "    .dataframe thead th {\n",
       "        text-align: right;\n",
       "    }\n",
       "</style>\n",
       "<table border=\"1\" class=\"dataframe\">\n",
       "  <thead>\n",
       "    <tr style=\"text-align: right;\">\n",
       "      <th></th>\n",
       "      <th>TURNSTILES</th>\n",
       "      <th>C/A</th>\n",
       "      <th>UNIT</th>\n",
       "      <th>SCP</th>\n",
       "      <th>STATION</th>\n",
       "      <th>LINENAME</th>\n",
       "      <th>DATETIME</th>\n",
       "      <th>DATE</th>\n",
       "      <th>TIME</th>\n",
       "      <th>ENTRIES</th>\n",
       "      <th>EXITS</th>\n",
       "      <th>PREV_DATE</th>\n",
       "      <th>PREV_ENTRIES</th>\n",
       "      <th>PREV_EXITS</th>\n",
       "    </tr>\n",
       "  </thead>\n",
       "  <tbody>\n",
       "    <tr>\n",
       "      <th>1</th>\n",
       "      <td>A002 - R051 - 02-00-00 - 59 ST</td>\n",
       "      <td>A002</td>\n",
       "      <td>R051</td>\n",
       "      <td>02-00-00</td>\n",
       "      <td>59 ST</td>\n",
       "      <td>NQR456W</td>\n",
       "      <td>2021-01-01 07:00:00</td>\n",
       "      <td>01/01/2021</td>\n",
       "      <td>07:00:00</td>\n",
       "      <td>7511451</td>\n",
       "      <td>2558789</td>\n",
       "      <td>01/01/2021</td>\n",
       "      <td>7511448.0</td>\n",
       "      <td>2558786.0</td>\n",
       "    </tr>\n",
       "    <tr>\n",
       "      <th>2</th>\n",
       "      <td>A002 - R051 - 02-00-00 - 59 ST</td>\n",
       "      <td>A002</td>\n",
       "      <td>R051</td>\n",
       "      <td>02-00-00</td>\n",
       "      <td>59 ST</td>\n",
       "      <td>NQR456W</td>\n",
       "      <td>2021-01-01 11:00:00</td>\n",
       "      <td>01/01/2021</td>\n",
       "      <td>11:00:00</td>\n",
       "      <td>7511461</td>\n",
       "      <td>2558813</td>\n",
       "      <td>01/01/2021</td>\n",
       "      <td>7511451.0</td>\n",
       "      <td>2558789.0</td>\n",
       "    </tr>\n",
       "    <tr>\n",
       "      <th>3</th>\n",
       "      <td>A002 - R051 - 02-00-00 - 59 ST</td>\n",
       "      <td>A002</td>\n",
       "      <td>R051</td>\n",
       "      <td>02-00-00</td>\n",
       "      <td>59 ST</td>\n",
       "      <td>NQR456W</td>\n",
       "      <td>2021-01-01 15:00:00</td>\n",
       "      <td>01/01/2021</td>\n",
       "      <td>15:00:00</td>\n",
       "      <td>7511495</td>\n",
       "      <td>2558831</td>\n",
       "      <td>01/01/2021</td>\n",
       "      <td>7511461.0</td>\n",
       "      <td>2558813.0</td>\n",
       "    </tr>\n",
       "    <tr>\n",
       "      <th>4</th>\n",
       "      <td>A002 - R051 - 02-00-00 - 59 ST</td>\n",
       "      <td>A002</td>\n",
       "      <td>R051</td>\n",
       "      <td>02-00-00</td>\n",
       "      <td>59 ST</td>\n",
       "      <td>NQR456W</td>\n",
       "      <td>2021-01-01 19:00:00</td>\n",
       "      <td>01/01/2021</td>\n",
       "      <td>19:00:00</td>\n",
       "      <td>7511620</td>\n",
       "      <td>2558857</td>\n",
       "      <td>01/01/2021</td>\n",
       "      <td>7511495.0</td>\n",
       "      <td>2558831.0</td>\n",
       "    </tr>\n",
       "    <tr>\n",
       "      <th>5</th>\n",
       "      <td>A002 - R051 - 02-00-00 - 59 ST</td>\n",
       "      <td>A002</td>\n",
       "      <td>R051</td>\n",
       "      <td>02-00-00</td>\n",
       "      <td>59 ST</td>\n",
       "      <td>NQR456W</td>\n",
       "      <td>2021-01-01 23:00:00</td>\n",
       "      <td>01/01/2021</td>\n",
       "      <td>23:00:00</td>\n",
       "      <td>7511647</td>\n",
       "      <td>2558865</td>\n",
       "      <td>01/01/2021</td>\n",
       "      <td>7511620.0</td>\n",
       "      <td>2558857.0</td>\n",
       "    </tr>\n",
       "  </tbody>\n",
       "</table>\n",
       "</div>"
      ],
      "text/plain": [
       "                       TURNSTILES   C/A  UNIT       SCP STATION LINENAME  \\\n",
       "1  A002 - R051 - 02-00-00 - 59 ST  A002  R051  02-00-00   59 ST  NQR456W   \n",
       "2  A002 - R051 - 02-00-00 - 59 ST  A002  R051  02-00-00   59 ST  NQR456W   \n",
       "3  A002 - R051 - 02-00-00 - 59 ST  A002  R051  02-00-00   59 ST  NQR456W   \n",
       "4  A002 - R051 - 02-00-00 - 59 ST  A002  R051  02-00-00   59 ST  NQR456W   \n",
       "5  A002 - R051 - 02-00-00 - 59 ST  A002  R051  02-00-00   59 ST  NQR456W   \n",
       "\n",
       "             DATETIME        DATE      TIME  ENTRIES    EXITS   PREV_DATE  \\\n",
       "1 2021-01-01 07:00:00  01/01/2021  07:00:00  7511451  2558789  01/01/2021   \n",
       "2 2021-01-01 11:00:00  01/01/2021  11:00:00  7511461  2558813  01/01/2021   \n",
       "3 2021-01-01 15:00:00  01/01/2021  15:00:00  7511495  2558831  01/01/2021   \n",
       "4 2021-01-01 19:00:00  01/01/2021  19:00:00  7511620  2558857  01/01/2021   \n",
       "5 2021-01-01 23:00:00  01/01/2021  23:00:00  7511647  2558865  01/01/2021   \n",
       "\n",
       "   PREV_ENTRIES  PREV_EXITS  \n",
       "1     7511448.0   2558786.0  \n",
       "2     7511451.0   2558789.0  \n",
       "3     7511461.0   2558813.0  \n",
       "4     7511495.0   2558831.0  \n",
       "5     7511620.0   2558857.0  "
      ]
     },
     "execution_count": 86,
     "metadata": {},
     "output_type": "execute_result"
    }
   ],
   "source": [
    "turnstile_df_21.head()"
   ]
  },
  {
   "cell_type": "markdown",
   "metadata": {},
   "source": [
    "# DATA CLEANING Part 2\n",
    "\n",
    "We have to reformat the dates to fall into date ranges 0-4,4-8,8-12,4-8,8-12 to make it easier for analysis. The outliers that fall outside of the 25% and 75% quartile of our dataset needs to be removed or replace with numbers from previous years assuming traffic patterns are consistent for the mta over the years. \n",
    "\n",
    "Before we calculate the entries and exits for a particular point in time, we need to perform a gutcheck. The ideal stiatuion is to have all the previous entries be less than the current entries. We want to check if there are situations where PREV_ENTRIES > ENTRIES or PREV_EXITS > EXITS and then decide how to calculate the entries and exits."
   ]
  },
  {
   "cell_type": "code",
   "execution_count": 88,
   "metadata": {},
   "outputs": [
    {
     "data": {
      "text/plain": [
       "TURNSTILES\n",
       "A002 - R051 - 02-03-02 - 59 ST                1\n",
       "A011 - R080 - 01-03-00 - 57 ST-7 AV         666\n",
       "A011 - R080 - 01-03-01 - 57 ST-7 AV           1\n",
       "A025 - R023 - 01-06-00 - 34 ST-HERALD SQ      1\n",
       "A031 - R083 - 00-00-01 - 23 ST                1\n",
       "                                           ... \n",
       "R624 - R124 - 00-00-02 - KINGSTON AV          1\n",
       "R627 - R063 - 00-00-02 - SUTTER AV-RUTLD      1\n",
       "R627 - R063 - 00-03-02 - SUTTER AV-RUTLD      2\n",
       "R730 - R431 - 00-00-04 - EASTCHSTER/DYRE    597\n",
       "S101 - R070 - 00-00-04 - ST. GEORGE           1\n",
       "Length: 280, dtype: int64"
      ]
     },
     "execution_count": 88,
     "metadata": {},
     "output_type": "execute_result"
    }
   ],
   "source": [
    "mask = (turnstile_df_21[\"ENTRIES\"] < turnstile_df_21[\"PREV_ENTRIES\"])\n",
    "turnstile_df_21[mask].groupby([\"TURNSTILES\"]).size()"
   ]
  },
  {
   "cell_type": "markdown",
   "metadata": {},
   "source": [
    "# DATA ANALYSIS WITH ONLY TURNSTILE DATA\n",
    "\n",
    "After finding the entries and exits values, we can combine the two values to find the total traffic for a particular turnstile at a time in day. \n",
    "\n",
    "Questions:\n",
    "\n",
    "1. Find the top 20 stations with the highest number of exits, enteries, traffic\n",
    "    - Now find the top stations with only one or two lines with the highest number of exits, entries, traffic\n",
    "2. Using the results from question one, we find the stations with highest exits, entries, traffics for time ranges 8-12, 12-4, 4-8 *meal hours\n",
    "    \n",
    "    - Which stations have the most entries around 8-12 am\n",
    "    - Which stations have the most exits around 4-8pm pm\n",
    " \n",
    "    \n",
    "    - Which stations have the most exits around 8-12 am?\n",
    "    - Which stations have the most entriess around 4 - 8 pm? \n",
    "    \n",
    "3. Find the average total of exits, entries, traffic for each weekday\n",
    "    - Do entries = exits?\n",
    "    - Is traffic consistent throughout the weekdays\n",
    "    - Using total traffic establish percentage of people in certain stations?\n"
   ]
  },
  {
   "cell_type": "markdown",
   "metadata": {},
   "source": [
    "# DATA VIZUALIZATIONS WITH ONLY TURNSTILE DATA\n",
    "\n",
    "Plot the answers to the questions to itentify insights and potential gaps in data.\n",
    "\n",
    "- Bar Chart -> Top 20 stations highest exits, entries, traffic \n",
    "- Line chart -> Consistency of Entries and Exits over time for a station (We're looking for consistent traffic)\n",
    "- Scatter Plot -> Exits versus Entries for a particular station \n",
    "- Heatmat -> Traffic flow during the weekday by TIME of a particular station"
   ]
  },
  {
   "cell_type": "markdown",
   "metadata": {},
   "source": [
    "# ADDING FARE AND LOCATION DATASETS"
   ]
  },
  {
   "cell_type": "markdown",
   "metadata": {},
   "source": [
    "# CONCLUSION"
   ]
  },
  {
   "cell_type": "markdown",
   "metadata": {},
   "source": [
    "# FUTURE IDEAS"
   ]
  }
 ],
 "metadata": {
  "kernelspec": {
   "display_name": "Python 3",
   "language": "python",
   "name": "python3"
  },
  "language_info": {
   "codemirror_mode": {
    "name": "ipython",
    "version": 3
   },
   "file_extension": ".py",
   "mimetype": "text/x-python",
   "name": "python",
   "nbconvert_exporter": "python",
   "pygments_lexer": "ipython3",
   "version": "3.8.5"
  }
 },
 "nbformat": 4,
 "nbformat_minor": 4
}
