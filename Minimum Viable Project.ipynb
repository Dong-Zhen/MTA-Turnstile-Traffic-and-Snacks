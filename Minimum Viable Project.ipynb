{
 "cells": [
  {
   "cell_type": "markdown",
   "metadata": {},
   "source": [
    "# Objective\n",
    "\n",
    "Help a nonprofit organization YoLocal Snack find three potential locations to open up shop. Our goal is to find the the stations with the highest entries and exits during meal hours. To cater towards our target market of New Yorkers with long commutes, we will establish filters that indicate long commutes.\n",
    "\n",
    "Long Commute Indicators:\n",
    "\n",
    "1. Boroughs Outside of the City\n",
    "2. Stations with only one or two subway lines\n",
    "3. Number of unlimited and student metros cards used \n",
    "\n",
    "After filtering and identifying potential stations, we can do a hand check of these stations by opening up Google Maps to visualize the number of local food stores near the station. Google's activity tracker can also reveal if traffic within these stores are higher during meal hours. In the future, YoLocal Snack will work with these vendors to efficiently cater to the local commuters. \n"
   ]
  },
  {
   "attachments": {},
   "cell_type": "markdown",
   "metadata": {},
   "source": [
    "# Gathering Data\n",
    "\n",
    "I will use mta data from January 2021 to April 2021 as the basis of my analysis. This is a good time frame to look at New York's commuter cycle. Students go back to school in January and workers resume work after major holidays. Additionally, the turnstile data has reset so it's possible to detect where anomalies begin and decide what to do with them. The total ridership from January 1, 2021 to April 23, 2021 is [171,715,108](https://new.mta.info/document/20441). \n",
    "\n",
    "To reinforce consistency, I gathered data for January to April from previous years to be used for comparison with traffic in 2021. If stations remain consistently busy during meal hours for the last three years, then they are great choices for YoLocal Snack to open a store. \n",
    "\n",
    "Datasets stored: \n",
    "\n",
    "- Mta Location Data\n",
    "- Mta Turnstile Data January to April 2019 - 2021\n",
    "- Mta Fare Data January to April 2019 - 2021"
   ]
  },
  {
   "cell_type": "code",
   "execution_count": 105,
   "metadata": {},
   "outputs": [],
   "source": [
    "from sqlalchemy import create_engine\n",
    "import urllib.request\n",
    "import pandas as pd\n",
    "import matplotlib.pyplot as plt\n",
    "import seaborn as sns\n",
    "import numpy as np\n",
    "import datetime \n",
    "from datetime import timedelta\n",
    "%config InlineBackend.figure_format = 'svg'\n",
    "%matplotlib inline \n",
    "\n",
    "turnstile_url = \"http://web.mta.info/developers/data/nyct/turnstile/turnstile_{}.txt\"\n",
    "daily_total_riders_url = \"https://new.mta.info/document/20441\"\n",
    "fare_url = \"http://web.mta.info/developers/data/nyct/fares/fares_{}.csv\"\n",
    "location_url = \"https://atisdata.s3.amazonaws.com/Station/Stations.csv\""
   ]
  },
  {
   "cell_type": "code",
   "execution_count": 3,
   "metadata": {},
   "outputs": [],
   "source": [
    "pd.set_option('display.max.colwidth', None)"
   ]
  },
  {
   "cell_type": "markdown",
   "metadata": {},
   "source": [
    "```def get_serial_date(start_date, end_date, month):\n",
    "    week_nums = []\n",
    "    date = datetime.date(*start_date)\n",
    "    end_date = datetime.date(*end_date)\n",
    "    delta = timedelta(weeks = 1)\n",
    "    while date <= end_date:\n",
    "        date_month = date.month\n",
    "        if date_month in month:\n",
    "            week_nums.append(date.strftime(\"%y%m%d\"))\n",
    "        date += delta\n",
    "    return week_nums```"
   ]
  },
  {
   "cell_type": "code",
   "execution_count": 114,
   "metadata": {},
   "outputs": [
    {
     "data": {
      "text/html": [
       "<div>\n",
       "<style scoped>\n",
       "    .dataframe tbody tr th:only-of-type {\n",
       "        vertical-align: middle;\n",
       "    }\n",
       "\n",
       "    .dataframe tbody tr th {\n",
       "        vertical-align: top;\n",
       "    }\n",
       "\n",
       "    .dataframe thead th {\n",
       "        text-align: right;\n",
       "    }\n",
       "</style>\n",
       "<table border=\"1\" class=\"dataframe\">\n",
       "  <thead>\n",
       "    <tr style=\"text-align: right;\">\n",
       "      <th></th>\n",
       "      <th>DATE</th>\n",
       "      <th>SUBWAY_TOTAL</th>\n",
       "      <th>Subways: % Change From Pre-Pandemic Equivalent Day</th>\n",
       "      <th>Buses: Total Estimated Ridership</th>\n",
       "      <th>Buses: % Change From Pre-Pandemic Equivalent Day</th>\n",
       "      <th>LIRR: Total Estimated Ridership</th>\n",
       "      <th>LIRR: % Change From 2019 Monthly Weekday/Saturday/Sunday Average</th>\n",
       "      <th>Metro-North: Total Estimated Ridership</th>\n",
       "      <th>Metro-North: % Change From 2019 Monthly Weekday/Saturday/Sunday Average</th>\n",
       "      <th>Access-A-Ride: Total Scheduled Trips</th>\n",
       "      <th>Access-A-Ride: % Change From Pre-Pandemic Equivalent Day</th>\n",
       "      <th>Bridges and Tunnels: Total Traffic</th>\n",
       "      <th>Bridges and Tunnels: % Change From Pre-Pandemic Equivalent Day</th>\n",
       "      <th>Unnamed: 13</th>\n",
       "    </tr>\n",
       "  </thead>\n",
       "  <tbody>\n",
       "    <tr>\n",
       "      <th>0</th>\n",
       "      <td>4/27/2021</td>\n",
       "      <td>2042686</td>\n",
       "      <td>-64.5%</td>\n",
       "      <td>1136003</td>\n",
       "      <td>-50.4%</td>\n",
       "      <td>89000.0</td>\n",
       "      <td>-71%</td>\n",
       "      <td>69300.0</td>\n",
       "      <td>-76%</td>\n",
       "      <td>22603</td>\n",
       "      <td>-23.7%</td>\n",
       "      <td>839788</td>\n",
       "      <td>-9.6%</td>\n",
       "      <td>NaN</td>\n",
       "    </tr>\n",
       "    <tr>\n",
       "      <th>1</th>\n",
       "      <td>4/26/2021</td>\n",
       "      <td>1957949</td>\n",
       "      <td>-64.8%</td>\n",
       "      <td>1136590</td>\n",
       "      <td>-49.4%</td>\n",
       "      <td>89300.0</td>\n",
       "      <td>-71%</td>\n",
       "      <td>68600.0</td>\n",
       "      <td>-76%</td>\n",
       "      <td>21083</td>\n",
       "      <td>-22.6%</td>\n",
       "      <td>826605</td>\n",
       "      <td>-8.7%</td>\n",
       "      <td>NaN</td>\n",
       "    </tr>\n",
       "    <tr>\n",
       "      <th>2</th>\n",
       "      <td>4/25/2021</td>\n",
       "      <td>984480</td>\n",
       "      <td>-59.3%</td>\n",
       "      <td>538059</td>\n",
       "      <td>-45.8%</td>\n",
       "      <td>34100.0</td>\n",
       "      <td>-63%</td>\n",
       "      <td>37100.0</td>\n",
       "      <td>-64%</td>\n",
       "      <td>9777</td>\n",
       "      <td>-44.0%</td>\n",
       "      <td>695863</td>\n",
       "      <td>-16.9%</td>\n",
       "      <td>NaN</td>\n",
       "    </tr>\n",
       "    <tr>\n",
       "      <th>3</th>\n",
       "      <td>4/24/2021</td>\n",
       "      <td>1519427</td>\n",
       "      <td>-53.5%</td>\n",
       "      <td>806098</td>\n",
       "      <td>-39.7%</td>\n",
       "      <td>51600.0</td>\n",
       "      <td>-55%</td>\n",
       "      <td>78900.0</td>\n",
       "      <td>-47%</td>\n",
       "      <td>13351</td>\n",
       "      <td>-18.6%</td>\n",
       "      <td>854964</td>\n",
       "      <td>-7.3%</td>\n",
       "      <td>NaN</td>\n",
       "    </tr>\n",
       "    <tr>\n",
       "      <th>4</th>\n",
       "      <td>4/23/2021</td>\n",
       "      <td>2124496</td>\n",
       "      <td>-57.9%</td>\n",
       "      <td>1178025</td>\n",
       "      <td>-32.6%</td>\n",
       "      <td>92800.0</td>\n",
       "      <td>-70%</td>\n",
       "      <td>76100.0</td>\n",
       "      <td>-73%</td>\n",
       "      <td>22035</td>\n",
       "      <td>-13.2%</td>\n",
       "      <td>920588</td>\n",
       "      <td>2.0%</td>\n",
       "      <td>NaN</td>\n",
       "    </tr>\n",
       "  </tbody>\n",
       "</table>\n",
       "</div>"
      ],
      "text/plain": [
       "        DATE  SUBWAY_TOTAL Subways: % Change From Pre-Pandemic Equivalent Day  \\\n",
       "0  4/27/2021       2042686                                             -64.5%   \n",
       "1  4/26/2021       1957949                                             -64.8%   \n",
       "2  4/25/2021        984480                                             -59.3%   \n",
       "3  4/24/2021       1519427                                             -53.5%   \n",
       "4  4/23/2021       2124496                                             -57.9%   \n",
       "\n",
       "   Buses: Total Estimated Ridership  \\\n",
       "0                           1136003   \n",
       "1                           1136590   \n",
       "2                            538059   \n",
       "3                            806098   \n",
       "4                           1178025   \n",
       "\n",
       "  Buses: % Change From Pre-Pandemic Equivalent Day  \\\n",
       "0                                           -50.4%   \n",
       "1                                           -49.4%   \n",
       "2                                           -45.8%   \n",
       "3                                           -39.7%   \n",
       "4                                           -32.6%   \n",
       "\n",
       "   LIRR: Total Estimated Ridership  \\\n",
       "0                          89000.0   \n",
       "1                          89300.0   \n",
       "2                          34100.0   \n",
       "3                          51600.0   \n",
       "4                          92800.0   \n",
       "\n",
       "  LIRR: % Change From 2019 Monthly Weekday/Saturday/Sunday Average  \\\n",
       "0                                                             -71%   \n",
       "1                                                             -71%   \n",
       "2                                                             -63%   \n",
       "3                                                             -55%   \n",
       "4                                                             -70%   \n",
       "\n",
       "   Metro-North: Total Estimated Ridership  \\\n",
       "0                                 69300.0   \n",
       "1                                 68600.0   \n",
       "2                                 37100.0   \n",
       "3                                 78900.0   \n",
       "4                                 76100.0   \n",
       "\n",
       "  Metro-North: % Change From 2019 Monthly Weekday/Saturday/Sunday Average  \\\n",
       "0                                                                    -76%   \n",
       "1                                                                    -76%   \n",
       "2                                                                    -64%   \n",
       "3                                                                    -47%   \n",
       "4                                                                    -73%   \n",
       "\n",
       "   Access-A-Ride: Total Scheduled Trips  \\\n",
       "0                                 22603   \n",
       "1                                 21083   \n",
       "2                                  9777   \n",
       "3                                 13351   \n",
       "4                                 22035   \n",
       "\n",
       "  Access-A-Ride: % Change From Pre-Pandemic Equivalent Day  \\\n",
       "0                                                   -23.7%   \n",
       "1                                                   -22.6%   \n",
       "2                                                   -44.0%   \n",
       "3                                                   -18.6%   \n",
       "4                                                   -13.2%   \n",
       "\n",
       "   Bridges and Tunnels: Total Traffic  \\\n",
       "0                              839788   \n",
       "1                              826605   \n",
       "2                              695863   \n",
       "3                              854964   \n",
       "4                              920588   \n",
       "\n",
       "  Bridges and Tunnels: % Change From Pre-Pandemic Equivalent Day  Unnamed: 13  \n",
       "0                                                          -9.6%          NaN  \n",
       "1                                                          -8.7%          NaN  \n",
       "2                                                         -16.9%          NaN  \n",
       "3                                                          -7.3%          NaN  \n",
       "4                                                           2.0%          NaN  "
      ]
     },
     "execution_count": 114,
     "metadata": {},
     "output_type": "execute_result"
    }
   ],
   "source": [
    "daily_total_df = pd.read_csv(daily_total_riders_url)\n",
    "daily_total_df.rename(columns = {'Date': 'DATE', 'Subways: Total Estimated Ridership':'SUBWAY_TOTAL'}, inplace = True)\n",
    "daily_total_check_df = daily_total_df.loc[:, ['DATE','SUBWAY_TOTAL']]\n",
    "daily_total_check_df['YEAR'] = daily_total_check_df['DATE'].str.extract(r'\\b(\\d+)$')"
   ]
  },
  {
   "cell_type": "code",
   "execution_count": 4,
   "metadata": {},
   "outputs": [],
   "source": [
    "engine = create_engine(\"sqlite:///Data/mta.db\")\n",
    "turnstile_df_21 = pd.read_sql(\"SELECT * FROM turnstile_data WHERE DATE LIKE '%2021';\", engine)"
   ]
  },
  {
   "cell_type": "code",
   "execution_count": 5,
   "metadata": {},
   "outputs": [
    {
     "name": "stdout",
     "output_type": "stream",
     "text": [
      "<class 'pandas.core.frame.DataFrame'>\n",
      "RangeIndex: 3377520 entries, 0 to 3377519\n",
      "Data columns (total 11 columns):\n",
      " #   Column                                                                Dtype \n",
      "---  ------                                                                ----- \n",
      " 0   C/A                                                                   object\n",
      " 1   UNIT                                                                  object\n",
      " 2   SCP                                                                   object\n",
      " 3   STATION                                                               object\n",
      " 4   LINENAME                                                              object\n",
      " 5   DIVISION                                                              object\n",
      " 6   DATE                                                                  object\n",
      " 7   TIME                                                                  object\n",
      " 8   DESC                                                                  object\n",
      " 9   ENTRIES                                                               object\n",
      " 10  EXITS                                                                 object\n",
      "dtypes: object(11)\n",
      "memory usage: 283.5+ MB\n"
     ]
    }
   ],
   "source": [
    "turnstile_df_21.info()"
   ]
  },
  {
   "cell_type": "code",
   "execution_count": 6,
   "metadata": {},
   "outputs": [],
   "source": [
    "turnstile_df_21.columns = turnstile_df_21.columns.str.replace(' ','')"
   ]
  },
  {
   "cell_type": "code",
   "execution_count": 7,
   "metadata": {},
   "outputs": [],
   "source": [
    "mta_dfs = [turnstile_df_21]\n",
    "#mta_dfs = [turnstile_df_19, turnstile_df_20, turnstile_df_21]\n",
    "\n",
    "for mta_df in mta_dfs:\n",
    "    \n",
    "    mta_df['DATETIME'] = pd.to_datetime(mta_df.DATE + \" \" + mta_df.TIME, \n",
    "                                        format=\"%m/%d/%Y %H:%M:%S\")\n",
    "    \n",
    "    mta_df['TURNSTILES'] = mta_df['C/A'] + \" - \" +\\\n",
    "                           mta_df['UNIT'] + \" - \" +\\\n",
    "                           mta_df['SCP'] + \" - \" +\\\n",
    "                           mta_df['STATION'] "
   ]
  },
  {
   "cell_type": "code",
   "execution_count": 8,
   "metadata": {},
   "outputs": [],
   "source": [
    "turnstile_df_21 = turnstile_df_21[['TURNSTILES', 'C/A', 'UNIT', 'SCP', 'STATION', 'LINENAME', 'DATETIME', 'DATE', 'TIME',\n",
    "                   'ENTRIES', 'EXITS']]"
   ]
  },
  {
   "cell_type": "code",
   "execution_count": 14,
   "metadata": {},
   "outputs": [
    {
     "name": "stderr",
     "output_type": "stream",
     "text": [
      "<ipython-input-14-0b1dfa15275e>:1: SettingWithCopyWarning: \n",
      "A value is trying to be set on a copy of a slice from a DataFrame.\n",
      "Try using .loc[row_indexer,col_indexer] = value instead\n",
      "\n",
      "See the caveats in the documentation: https://pandas.pydata.org/pandas-docs/stable/user_guide/indexing.html#returning-a-view-versus-a-copy\n",
      "  turnstile_df_21['ENTRIES'] = turnstile_df_21['ENTRIES'].astype('int')\n",
      "<ipython-input-14-0b1dfa15275e>:2: SettingWithCopyWarning: \n",
      "A value is trying to be set on a copy of a slice from a DataFrame.\n",
      "Try using .loc[row_indexer,col_indexer] = value instead\n",
      "\n",
      "See the caveats in the documentation: https://pandas.pydata.org/pandas-docs/stable/user_guide/indexing.html#returning-a-view-versus-a-copy\n",
      "  turnstile_df_21['EXITS'] = turnstile_df_21['EXITS'].astype('int')\n"
     ]
    }
   ],
   "source": [
    "turnstile_df_21['ENTRIES'] = turnstile_df_21['ENTRIES'].astype('int')\n",
    "turnstile_df_21['EXITS'] = turnstile_df_21['EXITS'].astype('int')"
   ]
  },
  {
   "cell_type": "code",
   "execution_count": 11,
   "metadata": {},
   "outputs": [
    {
     "name": "stderr",
     "output_type": "stream",
     "text": [
      "<ipython-input-11-f0527454c1ba>:1: FutureWarning: Treating datetime data as categorical rather than numeric in `.describe` is deprecated and will be removed in a future version of pandas. Specify `datetime_is_numeric=True` to silence this warning and adopt the future behavior now.\n",
      "  turnstile_df_21.describe()\n"
     ]
    },
    {
     "data": {
      "text/html": [
       "<div>\n",
       "<style scoped>\n",
       "    .dataframe tbody tr th:only-of-type {\n",
       "        vertical-align: middle;\n",
       "    }\n",
       "\n",
       "    .dataframe tbody tr th {\n",
       "        vertical-align: top;\n",
       "    }\n",
       "\n",
       "    .dataframe thead th {\n",
       "        text-align: right;\n",
       "    }\n",
       "</style>\n",
       "<table border=\"1\" class=\"dataframe\">\n",
       "  <thead>\n",
       "    <tr style=\"text-align: right;\">\n",
       "      <th></th>\n",
       "      <th>TURNSTILES</th>\n",
       "      <th>C/A</th>\n",
       "      <th>UNIT</th>\n",
       "      <th>SCP</th>\n",
       "      <th>STATION</th>\n",
       "      <th>LINENAME</th>\n",
       "      <th>DATETIME</th>\n",
       "      <th>DATE</th>\n",
       "      <th>TIME</th>\n",
       "      <th>ENTRIES</th>\n",
       "      <th>EXITS</th>\n",
       "    </tr>\n",
       "  </thead>\n",
       "  <tbody>\n",
       "    <tr>\n",
       "      <th>count</th>\n",
       "      <td>3377520</td>\n",
       "      <td>3377520</td>\n",
       "      <td>3377520</td>\n",
       "      <td>3377520</td>\n",
       "      <td>3377520</td>\n",
       "      <td>3377520</td>\n",
       "      <td>3377520</td>\n",
       "      <td>3377520</td>\n",
       "      <td>3377520</td>\n",
       "      <td>3377520</td>\n",
       "      <td>3377520</td>\n",
       "    </tr>\n",
       "    <tr>\n",
       "      <th>unique</th>\n",
       "      <td>5056</td>\n",
       "      <td>749</td>\n",
       "      <td>468</td>\n",
       "      <td>226</td>\n",
       "      <td>378</td>\n",
       "      <td>114</td>\n",
       "      <td>216474</td>\n",
       "      <td>113</td>\n",
       "      <td>62524</td>\n",
       "      <td>2127757</td>\n",
       "      <td>2686004</td>\n",
       "    </tr>\n",
       "    <tr>\n",
       "      <th>top</th>\n",
       "      <td>N339A - R114 - 00-00-00 - PARSONS BLVD</td>\n",
       "      <td>PTH22</td>\n",
       "      <td>R549</td>\n",
       "      <td>00-00-00</td>\n",
       "      <td>34 ST-PENN STA</td>\n",
       "      <td>1</td>\n",
       "      <td>2021-04-05 08:00:00</td>\n",
       "      <td>01/01/2021</td>\n",
       "      <td>04:00:00</td>\n",
       "      <td>0000000000</td>\n",
       "      <td>0000000000</td>\n",
       "    </tr>\n",
       "    <tr>\n",
       "      <th>freq</th>\n",
       "      <td>810</td>\n",
       "      <td>29007</td>\n",
       "      <td>46309</td>\n",
       "      <td>313237</td>\n",
       "      <td>69058</td>\n",
       "      <td>413514</td>\n",
       "      <td>2562</td>\n",
       "      <td>30696</td>\n",
       "      <td>239910</td>\n",
       "      <td>47280</td>\n",
       "      <td>14505</td>\n",
       "    </tr>\n",
       "    <tr>\n",
       "      <th>first</th>\n",
       "      <td>NaN</td>\n",
       "      <td>NaN</td>\n",
       "      <td>NaN</td>\n",
       "      <td>NaN</td>\n",
       "      <td>NaN</td>\n",
       "      <td>NaN</td>\n",
       "      <td>2021-01-01 00:00:00</td>\n",
       "      <td>NaN</td>\n",
       "      <td>NaN</td>\n",
       "      <td>NaN</td>\n",
       "      <td>NaN</td>\n",
       "    </tr>\n",
       "    <tr>\n",
       "      <th>last</th>\n",
       "      <td>NaN</td>\n",
       "      <td>NaN</td>\n",
       "      <td>NaN</td>\n",
       "      <td>NaN</td>\n",
       "      <td>NaN</td>\n",
       "      <td>NaN</td>\n",
       "      <td>2021-04-23 23:59:55</td>\n",
       "      <td>NaN</td>\n",
       "      <td>NaN</td>\n",
       "      <td>NaN</td>\n",
       "      <td>NaN</td>\n",
       "    </tr>\n",
       "  </tbody>\n",
       "</table>\n",
       "</div>"
      ],
      "text/plain": [
       "                                    TURNSTILES      C/A     UNIT       SCP  \\\n",
       "count                                  3377520  3377520  3377520   3377520   \n",
       "unique                                    5056      749      468       226   \n",
       "top     N339A - R114 - 00-00-00 - PARSONS BLVD    PTH22     R549  00-00-00   \n",
       "freq                                       810    29007    46309    313237   \n",
       "first                                      NaN      NaN      NaN       NaN   \n",
       "last                                       NaN      NaN      NaN       NaN   \n",
       "\n",
       "               STATION LINENAME             DATETIME        DATE      TIME  \\\n",
       "count          3377520  3377520              3377520     3377520   3377520   \n",
       "unique             378      114               216474         113     62524   \n",
       "top     34 ST-PENN STA        1  2021-04-05 08:00:00  01/01/2021  04:00:00   \n",
       "freq             69058   413514                 2562       30696    239910   \n",
       "first              NaN      NaN  2021-01-01 00:00:00         NaN       NaN   \n",
       "last               NaN      NaN  2021-04-23 23:59:55         NaN       NaN   \n",
       "\n",
       "           ENTRIES                                               EXITS  \n",
       "count      3377520                                             3377520  \n",
       "unique     2127757                                             2686004  \n",
       "top     0000000000  0000000000                                          \n",
       "freq         47280                                               14505  \n",
       "first          NaN                                                 NaN  \n",
       "last           NaN                                                 NaN  "
      ]
     },
     "execution_count": 11,
     "metadata": {},
     "output_type": "execute_result"
    }
   ],
   "source": [
    "turnstile_df_21.describe()"
   ]
  },
  {
   "cell_type": "code",
   "execution_count": 13,
   "metadata": {},
   "outputs": [
    {
     "name": "stderr",
     "output_type": "stream",
     "text": [
      "<ipython-input-13-36887db081db>:1: FutureWarning: Indexing with multiple keys (implicitly converted to a tuple of keys) will be deprecated, use a list instead.\n",
      "  (turnstile_df_21.groupby(['TURNSTILES','DATETIME'])\n"
     ]
    },
    {
     "data": {
      "text/html": [
       "<div>\n",
       "<style scoped>\n",
       "    .dataframe tbody tr th:only-of-type {\n",
       "        vertical-align: middle;\n",
       "    }\n",
       "\n",
       "    .dataframe tbody tr th {\n",
       "        vertical-align: top;\n",
       "    }\n",
       "\n",
       "    .dataframe thead th {\n",
       "        text-align: right;\n",
       "    }\n",
       "</style>\n",
       "<table border=\"1\" class=\"dataframe\">\n",
       "  <thead>\n",
       "    <tr style=\"text-align: right;\">\n",
       "      <th></th>\n",
       "      <th>TURNSTILES</th>\n",
       "      <th>DATETIME</th>\n",
       "      <th>ENTRIES</th>\n",
       "      <th>EXITS</th>\n",
       "    </tr>\n",
       "  </thead>\n",
       "  <tbody>\n",
       "    <tr>\n",
       "      <th>304390</th>\n",
       "      <td>B028 - R136 - 01-00-01 - SHEEPSHEAD BAY</td>\n",
       "      <td>2021-01-08 04:00:00</td>\n",
       "      <td>2</td>\n",
       "      <td>2</td>\n",
       "    </tr>\n",
       "    <tr>\n",
       "      <th>912572</th>\n",
       "      <td>N071 - R013 - 00-00-00 - 34 ST-PENN STA</td>\n",
       "      <td>2021-04-08 08:00:00</td>\n",
       "      <td>2</td>\n",
       "      <td>2</td>\n",
       "    </tr>\n",
       "    <tr>\n",
       "      <th>913251</th>\n",
       "      <td>N071 - R013 - 00-00-01 - 34 ST-PENN STA</td>\n",
       "      <td>2021-04-08 08:00:00</td>\n",
       "      <td>2</td>\n",
       "      <td>2</td>\n",
       "    </tr>\n",
       "    <tr>\n",
       "      <th>913930</th>\n",
       "      <td>N071 - R013 - 00-00-02 - 34 ST-PENN STA</td>\n",
       "      <td>2021-04-08 08:00:00</td>\n",
       "      <td>2</td>\n",
       "      <td>2</td>\n",
       "    </tr>\n",
       "    <tr>\n",
       "      <th>914609</th>\n",
       "      <td>N071 - R013 - 00-00-03 - 34 ST-PENN STA</td>\n",
       "      <td>2021-04-08 08:00:00</td>\n",
       "      <td>2</td>\n",
       "      <td>2</td>\n",
       "    </tr>\n",
       "  </tbody>\n",
       "</table>\n",
       "</div>"
      ],
      "text/plain": [
       "                                     TURNSTILES            DATETIME  ENTRIES  \\\n",
       "304390  B028 - R136 - 01-00-01 - SHEEPSHEAD BAY 2021-01-08 04:00:00        2   \n",
       "912572  N071 - R013 - 00-00-00 - 34 ST-PENN STA 2021-04-08 08:00:00        2   \n",
       "913251  N071 - R013 - 00-00-01 - 34 ST-PENN STA 2021-04-08 08:00:00        2   \n",
       "913930  N071 - R013 - 00-00-02 - 34 ST-PENN STA 2021-04-08 08:00:00        2   \n",
       "914609  N071 - R013 - 00-00-03 - 34 ST-PENN STA 2021-04-08 08:00:00        2   \n",
       "\n",
       "        EXITS  \n",
       "304390      2  \n",
       "912572      2  \n",
       "913251      2  \n",
       "913930      2  \n",
       "914609      2  "
      ]
     },
     "execution_count": 13,
     "metadata": {},
     "output_type": "execute_result"
    }
   ],
   "source": [
    "(turnstile_df_21.groupby(['TURNSTILES','DATETIME'])\n",
    "['ENTRIES', 'EXITS'].count()\n",
    ".reset_index()\n",
    ".sort_values([\"ENTRIES\", \"EXITS\"], ascending=False)).head()"
   ]
  },
  {
   "cell_type": "code",
   "execution_count": 17,
   "metadata": {},
   "outputs": [
    {
     "data": {
      "text/plain": [
       "count    3.377520e+06\n",
       "mean     4.215707e+07\n",
       "std      2.186629e+08\n",
       "min      0.000000e+00\n",
       "25%      2.253830e+05\n",
       "50%      1.505995e+06\n",
       "75%      6.173308e+06\n",
       "max      2.147432e+09\n",
       "Name: ENTRIES, dtype: float64"
      ]
     },
     "execution_count": 17,
     "metadata": {},
     "output_type": "execute_result"
    }
   ],
   "source": [
    "turnstile_df_21['ENTRIES'].describe()"
   ]
  },
  {
   "cell_type": "code",
   "execution_count": 18,
   "metadata": {},
   "outputs": [
    {
     "data": {
      "text/plain": [
       "count    3.377520e+06\n",
       "mean     3.392197e+07\n",
       "std      1.943887e+08\n",
       "min      0.000000e+00\n",
       "25%      9.431400e+04\n",
       "50%      9.045045e+05\n",
       "75%      4.055988e+06\n",
       "max      2.123068e+09\n",
       "Name: EXITS, dtype: float64"
      ]
     },
     "execution_count": 18,
     "metadata": {},
     "output_type": "execute_result"
    }
   ],
   "source": [
    "turnstile_df_21['EXITS'].describe()"
   ]
  },
  {
   "cell_type": "code",
   "execution_count": 96,
   "metadata": {},
   "outputs": [],
   "source": [
    "perc_25_entries = turnstile_df_21['ENTRIES'].quantile(.25)\n",
    "perc_75_entries = turnstile_df_21['ENTRIES'].quantile(.75)"
   ]
  },
  {
   "cell_type": "code",
   "execution_count": 97,
   "metadata": {},
   "outputs": [],
   "source": [
    "perc_25_exits = turnstile_df_21['EXITS'].quantile(.25)\n",
    "perc_75_exits = turnstile_df_21['EXITS'].quantile(.75)"
   ]
  },
  {
   "cell_type": "markdown",
   "metadata": {},
   "source": [
    "# DATA CLEANING Part 1\n",
    "\n",
    "A quick exploration of the dataset reveals many cleaning tasks. There are a number of duplicate rows, the exits and entries columns contain outliers that are far from the mean, the time column reveals 62524 instead of the expected 14. The entries and exits columns show cumulative values instead of the number of entries at that point in time. \n",
    "\n",
    "The next steps will include:\n",
    "1. Remove the duplicate values \n",
    "2. Locate the outliers and save their indexes. Use the unique identifiers to replace the outlier values with numbers from a previous year if traffic patterns are similar to current.\n",
    "3. Check the unique time values \n",
    "4. Calculate the number of entries and exits  "
   ]
  },
  {
   "cell_type": "code",
   "execution_count": null,
   "metadata": {},
   "outputs": [],
   "source": [
    "turnstile_df_21.sort_values(['TURNSTILES','DATETIME'], \n",
    "                   ascending = True, inplace = True)\n",
    "turnstile_df_21.drop_duplicates(subset = ['TURNSTILES', 'DATETIME'], keep = 'first',\n",
    "                      inplace = True)"
   ]
  },
  {
   "cell_type": "code",
   "execution_count": null,
   "metadata": {},
   "outputs": [],
   "source": [
    "turnstile_df_21['TIME'].value_counts().head(40)"
   ]
  },
  {
   "cell_type": "markdown",
   "metadata": {},
   "source": [
    "This code formats the 6000+ time stamps to a consistent four hour time stamp from 12am to 12am. \n",
    "```\n",
    "temp_time = turnstile_df_21['TIME'].reset_index().copy()\n",
    "temp_time['first3'] = temp_time['TIME'].str[:4]\n",
    "temp_time['first3'] = temp_time['first3'].str.replace(\":\", \".\").astype('float')\n",
    "temp_time['first3'] = temp_time['first3'].apply(lambda x: np.round(x,0))\n",
    "time_bin = [0.0, 4.0, 8.0, 12.0, 16.0, 20.0, 24.0]\n",
    "temp_time['first3'] = temp_time['first3'].apply(lambda x: time_bin[np.digitize(x,time_bin, right = True)])\n",
    "temp_time['first3']['TIME'] = temp_time['first3']['TIME'].astype('str')\n",
    "time_dict = {'0.0': '00:00:00' , '4.0': '04:00:00' , '8.0': '08:00:00' , '12.0': '12:00:00', \n",
    "             '16.0': '16:00:00', '20.0': '20:00:00', '24.0': '00:00:00' }    \n",
    "time_list = list(temp_time['first3'])\n",
    "turnstile_df_21['TIME'] = time_list\n",
    "\n",
    "```"
   ]
  },
  {
   "cell_type": "code",
   "execution_count": 342,
   "metadata": {},
   "outputs": [
    {
     "name": "stderr",
     "output_type": "stream",
     "text": [
      "/home/desbrium/anaconda3/lib/python3.8/site-packages/pandas/core/frame.py:4163: SettingWithCopyWarning: \n",
      "A value is trying to be set on a copy of a slice from a DataFrame\n",
      "\n",
      "See the caveats in the documentation: https://pandas.pydata.org/pandas-docs/stable/user_guide/indexing.html#returning-a-view-versus-a-copy\n",
      "  return super().drop(\n",
      "<ipython-input-342-c72d031df0d9>:2: SettingWithCopyWarning: \n",
      "A value is trying to be set on a copy of a slice from a DataFrame.\n",
      "Try using .loc[row_indexer,col_indexer] = value instead\n",
      "\n",
      "See the caveats in the documentation: https://pandas.pydata.org/pandas-docs/stable/user_guide/indexing.html#returning-a-view-versus-a-copy\n",
      "  turnstile_df_21['DATETIME'] = pd.to_datetime(turnstile_df_21.DATE + \" \" + turnstile_df_21.TIME,\n"
     ]
    }
   ],
   "source": [
    "turnstile_df_21.drop('DATETIME',axis = 1, inplace = True)\n",
    "turnstile_df_21['DATETIME'] = pd.to_datetime(turnstile_df_21.DATE + \" \" + turnstile_df_21.TIME, \n",
    "                                        format=\"%m/%d/%Y %H:%M:%S\")"
   ]
  },
  {
   "cell_type": "code",
   "execution_count": null,
   "metadata": {},
   "outputs": [],
   "source": [
    "turnstile_df_21[[\"PREV_DATE\", \"PREV_ENTRIES\", \"PREV_EXITS\"]] = (turnstile_df_21\n",
    "                                                       .groupby([\"TURNSTILES\"])[\"DATE\", \"ENTRIES\", \"EXITS\"]\n",
    "                                                       .apply(lambda grp: grp.shift(1)))\n",
    "turnstile_df_21.dropna(subset=[\"PREV_DATE\"], axis=0, inplace=True)"
   ]
  },
  {
   "cell_type": "code",
   "execution_count": 52,
   "metadata": {},
   "outputs": [
    {
     "data": {
      "text/plain": [
       "(63291, 11)"
      ]
     },
     "execution_count": 52,
     "metadata": {},
     "output_type": "execute_result"
    }
   ],
   "source": [
    "exit_mask_0 = (turnstile_df_21['EXITS'] == 0) & (turnstile_df_21['DATE'] > '03/01/2021')\n",
    "turnstile_df_21[exit_mask_0].shape"
   ]
  },
  {
   "cell_type": "code",
   "execution_count": 55,
   "metadata": {},
   "outputs": [
    {
     "data": {
      "text/plain": [
       "(22046, 11)"
      ]
     },
     "execution_count": 55,
     "metadata": {},
     "output_type": "execute_result"
    }
   ],
   "source": [
    "entry_mask_0 = (turnstile_df_21['ENTRIES'] == 0) & (turnstile_df_21['DATE'] > '03/01/2021')\n",
    "turnstile_df_21[entry_mask_0].shape"
   ]
  },
  {
   "cell_type": "code",
   "execution_count": 91,
   "metadata": {},
   "outputs": [
    {
     "name": "stderr",
     "output_type": "stream",
     "text": [
      "<ipython-input-91-9bb9b8010a05>:1: UserWarning: Boolean Series key will be reindexed to match DataFrame index.\n",
      "  turnstile_df_21[entry_mask_0].groupby('STATION')['TURNSTILES'].value_counts()\n"
     ]
    },
    {
     "data": {
      "text/plain": [
       "STATION          TURNSTILES                               \n",
       "111 ST           N138 - R355 - 01-04-01 - 111 ST              319\n",
       "14 ST            N513 - R163 - 04-05-01 - 14 ST               316\n",
       "168 ST           N013 - R035 - 02-05-01 - 168 ST              314\n",
       "                 N012 - R035 - 01-05-00 - 168 ST               94\n",
       "175 ST           N011 - R126 - 01-05-01 - 175 ST              317\n",
       "                                                             ... \n",
       "THIRTY ST        PTH13 - R541 - 00-00-00 - THIRTY ST            1\n",
       "THIRTY THIRD ST  PTH17 - R541 - 01-00-00 - THIRTY THIRD ST    303\n",
       "UTICA AV         N120A - R153 - 01-05-01 - UTICA AV           328\n",
       "W 4 ST-WASH SQ   N083 - R138 - 01-05-00 - W 4 ST-WASH SQ        9\n",
       "W 8 ST-AQUARIUM  G015 - R312 - 01-05-01 - W 8 ST-AQUARIUM      44\n",
       "Name: TURNSTILES, Length: 82, dtype: int64"
      ]
     },
     "execution_count": 91,
     "metadata": {},
     "output_type": "execute_result"
    }
   ],
   "source": [
    "turnstile_df_21[entry_mask_0].groupby('STATION')['TURNSTILES'].value_counts()"
   ]
  },
  {
   "cell_type": "code",
   "execution_count": null,
   "metadata": {},
   "outputs": [],
   "source": [
    "#Think about what to do with turnstiles with zero. We can exclude the stations if they are coming from stations with low traffic and if there are a lot of zero entries within March 1st, 2021.\n",
    "#turnstile_df_21_not_performing = pd.concat(turnstile_df_21[exit_mask_0],entry_mask_0)"
   ]
  },
  {
   "cell_type": "code",
   "execution_count": 177,
   "metadata": {},
   "outputs": [
    {
     "name": "stdout",
     "output_type": "stream",
     "text": [
      "9\n"
     ]
    }
   ],
   "source": [
    "total_traffic_21 = daily_total_check_df.groupby('YEAR')['SUBWAY_TOTAL'].sum()['2021']\n",
    "print(len(str(total_traffic_21)))"
   ]
  },
  {
   "cell_type": "code",
   "execution_count": 172,
   "metadata": {},
   "outputs": [
    {
     "data": {
      "text/plain": [
       "178219650"
      ]
     },
     "execution_count": 172,
     "metadata": {},
     "output_type": "execute_result"
    }
   ],
   "source": [
    "total_traffic_21"
   ]
  },
  {
   "cell_type": "code",
   "execution_count": 339,
   "metadata": {},
   "outputs": [
    {
     "name": "stderr",
     "output_type": "stream",
     "text": [
      "<ipython-input-339-93b22d8d37a6>:2: SettingWithCopyWarning: \n",
      "A value is trying to be set on a copy of a slice from a DataFrame.\n",
      "Try using .loc[row_indexer,col_indexer] = value instead\n",
      "\n",
      "See the caveats in the documentation: https://pandas.pydata.org/pandas-docs/stable/user_guide/indexing.html#returning-a-view-versus-a-copy\n",
      "  turnstile_df_21['irr_entry']=turnstile_df_21['ENTRIES'].apply(lambda x: len(str(x))>=8)\n",
      "<ipython-input-339-93b22d8d37a6>:3: SettingWithCopyWarning: \n",
      "A value is trying to be set on a copy of a slice from a DataFrame.\n",
      "Try using .loc[row_indexer,col_indexer] = value instead\n",
      "\n",
      "See the caveats in the documentation: https://pandas.pydata.org/pandas-docs/stable/user_guide/indexing.html#returning-a-view-versus-a-copy\n",
      "  turnstile_df_21['irr_exit']=turnstile_df_21['EXITS'].apply(lambda x: len(str(x))>=8)\n"
     ]
    }
   ],
   "source": [
    "#Identify irregular entries with over 9 length. Exclude if they're coming from low traffic stations or replace them with 2020's or 2019's values. \n",
    "turnstile_df_21['irr_entry']=turnstile_df_21['ENTRIES'].apply(lambda x: len(str(x))>=8) \n",
    "turnstile_df_21['irr_exit']=turnstile_df_21['EXITS'].apply(lambda x: len(str(x))>=8) \n",
    "irr_entry_df = turnstile_df_21[turnstile_df_21['irr_entry'] == True]\n",
    "irr_exit_df = turnstile_df_21[turnstile_df_21['irr_exit'] == True]\n"
   ]
  },
  {
   "cell_type": "code",
   "execution_count": 340,
   "metadata": {},
   "outputs": [
    {
     "data": {
      "text/plain": [
       "(510763, 16)"
      ]
     },
     "execution_count": 340,
     "metadata": {},
     "output_type": "execute_result"
    }
   ],
   "source": [
    "irr_entry_df.shape"
   ]
  },
  {
   "cell_type": "code",
   "execution_count": 341,
   "metadata": {},
   "outputs": [
    {
     "data": {
      "text/plain": [
       "(364353, 16)"
      ]
     },
     "execution_count": 341,
     "metadata": {},
     "output_type": "execute_result"
    }
   ],
   "source": [
    "irr_exit_df.shape"
   ]
  },
  {
   "cell_type": "code",
   "execution_count": 344,
   "metadata": {},
   "outputs": [],
   "source": [
    "clean_turnstile_df_21 = turnstile_df_21[~(turnstile_df_21['irr_entry'] == True) & \n",
    "                                        ~(turnstile_df_21['irr_exit'] == True)]"
   ]
  },
  {
   "cell_type": "code",
   "execution_count": 345,
   "metadata": {},
   "outputs": [
    {
     "data": {
      "text/plain": [
       "(2767875, 16)"
      ]
     },
     "execution_count": 345,
     "metadata": {},
     "output_type": "execute_result"
    }
   ],
   "source": [
    "clean_turnstile_df_21.shape"
   ]
  },
  {
   "cell_type": "markdown",
   "metadata": {},
   "source": [
    "# DATA CLEANING Part 2\n",
    "\n",
    "We reformatted the dates to fall into date ranges 0-4,4-8,8-12,4-8,8-12 to make it easier for analysis. The outliers that fall outside of the total number of traffic in January to April 2021 have been masked and removed. \n",
    "\n",
    "Before we calculate the entries and exits for a particular point in time, we need to perform a gutcheck. The ideal stiatuion is to have all the previous entries be less than the current entries. We want to check if there are situations where PREV_ENTRIES > ENTRIES or PREV_EXITS > EXITS and then decide how to calculate the entries and exits. We can sort the entries and exits descending order with a groupby. "
   ]
  },
  {
   "cell_type": "code",
   "execution_count": 351,
   "metadata": {},
   "outputs": [
    {
     "data": {
      "text/plain": [
       "TURNSTILES\n",
       "N063A - R011 - 00-00-08 - 42 ST-PORT AUTH    678\n",
       "C008 - R099 - 00-00-00 - DEKALB AV           676\n",
       "N063A - R011 - 00-00-04 - 42 ST-PORT AUTH    676\n",
       "R401 - R445 - 00-00-00 - 3 AV 138 ST         675\n",
       "H003 - R163 - 01-00-02 - 6 AV                674\n",
       "N601 - R319 - 00-00-01 - LEXINGTON AV/63     673\n",
       "R127 - R105 - 00-00-00 - 14 ST               673\n",
       "R161B - R452 - 00-00-03 - 72 ST              671\n",
       "H023 - R236 - 00-00-01 - DEKALB AV           671\n",
       "N006A - R280 - 00-00-00 - 190 ST             671\n",
       "N203 - R195 - 00-00-01 - 161/YANKEE STAD     670\n",
       "N606 - R025 - 00-00-01 - JAMAICA CENTER      668\n",
       "N506 - R022 - 00-05-03 - 34 ST-HERALD SQ     667\n",
       "N207 - R104 - 00-00-00 - 167 ST              666\n",
       "N063A - R011 - 00-00-05 - 42 ST-PORT AUTH    666\n",
       "H023 - R236 - 00-06-00 - DEKALB AV           666\n",
       "A011 - R080 - 01-03-00 - 57 ST-7 AV          666\n",
       "N215 - R237 - 00-00-02 - 182-183 STS         665\n",
       "R304 - R206 - 00-00-00 - 125 ST              664\n",
       "A066 - R118 - 00-00-00 - CANAL ST            663\n",
       "dtype: int64"
      ]
     },
     "execution_count": 351,
     "metadata": {},
     "output_type": "execute_result"
    }
   ],
   "source": [
    "mask = (turnstile_df_21[\"ENTRIES\"] < turnstile_df_21[\"PREV_ENTRIES\"])\n",
    "turnstile_df_21[mask].groupby([\"TURNSTILES\"]).size().sort_values(ascending = False).head(20)"
   ]
  },
  {
   "cell_type": "code",
   "execution_count": 366,
   "metadata": {},
   "outputs": [
    {
     "name": "stderr",
     "output_type": "stream",
     "text": [
      "<ipython-input-366-6cf160d783ec>:2: UserWarning: Boolean Series key will be reindexed to match DataFrame index.\n",
      "  clean_turnstile_df_21[mask].groupby([\"TURNSTILES\"]).size().sort_values(ascending = False).head(20)\n"
     ]
    },
    {
     "data": {
      "text/plain": [
       "TURNSTILES\n",
       "PTH03 - R552 - 00-01-08 - JOURNAL SQUARE     18\n",
       "PTH03 - R552 - 00-01-01 - JOURNAL SQUARE     10\n",
       "PTH04 - R551 - 00-04-06 - GROVE STREET        9\n",
       "PTH22 - R540 - 00-01-04 - PATH NEW WTC        5\n",
       "N012 - R035 - 01-05-00 - 168 ST               4\n",
       "PTH03 - R552 - 00-05-03 - JOURNAL SQUARE      4\n",
       "PTH11 - R545 - 00-00-02 - 14TH STREET         4\n",
       "H007A - R248 - 02-05-00 - 1 AV                4\n",
       "R201 - R041 - 00-00-02 - BOWLING GREEN        3\n",
       "PTH04 - R551 - 00-04-04 - GROVE STREET        3\n",
       "R240 - R047 - 00-03-00 - GRD CNTRL-42 ST      3\n",
       "PTH09 - R548 - 00-00-00 - CHRISTOPHER ST      3\n",
       "B032 - R264 - 00-00-01 - OCEAN PKWY           3\n",
       "PTH02 - R544 - 00-06-06 - HARRISON            3\n",
       "PTH07 - R550 - 00-00-00 - CITY / BUS          3\n",
       "PTH01 - R549 - 00-00-08 - NEWARK HW BMEBE     3\n",
       "N400A - R359 - 02-00-02 - COURT SQ            3\n",
       "PTH20 - R549 - 03-00-05 - NEWARK HM HE        2\n",
       "R203A - R043 - 01-05-00 - WALL ST             2\n",
       "N083 - R138 - 01-06-00 - W 4 ST-WASH SQ       2\n",
       "dtype: int64"
      ]
     },
     "execution_count": 366,
     "metadata": {},
     "output_type": "execute_result"
    }
   ],
   "source": [
    "clean_mask = (clean_turnstile_df_21[\"ENTRIES\"] < clean_turnstile_df_21[\"PREV_ENTRIES\"])\n",
    "clean_turnstile_df_21[mask].groupby([\"TURNSTILES\"]).size().sort_values(ascending = False).head(20)"
   ]
  },
  {
   "cell_type": "code",
   "execution_count": 368,
   "metadata": {},
   "outputs": [
    {
     "data": {
      "text/html": [
       "<div>\n",
       "<style scoped>\n",
       "    .dataframe tbody tr th:only-of-type {\n",
       "        vertical-align: middle;\n",
       "    }\n",
       "\n",
       "    .dataframe tbody tr th {\n",
       "        vertical-align: top;\n",
       "    }\n",
       "\n",
       "    .dataframe thead th {\n",
       "        text-align: right;\n",
       "    }\n",
       "</style>\n",
       "<table border=\"1\" class=\"dataframe\">\n",
       "  <thead>\n",
       "    <tr style=\"text-align: right;\">\n",
       "      <th></th>\n",
       "      <th>TURNSTILES</th>\n",
       "      <th>C/A</th>\n",
       "      <th>UNIT</th>\n",
       "      <th>SCP</th>\n",
       "      <th>STATION</th>\n",
       "      <th>LINENAME</th>\n",
       "      <th>DATE</th>\n",
       "      <th>TIME</th>\n",
       "      <th>ENTRIES</th>\n",
       "      <th>EXITS</th>\n",
       "      <th>PREV_DATE</th>\n",
       "      <th>PREV_ENTRIES</th>\n",
       "      <th>PREV_EXITS</th>\n",
       "      <th>irr_entry</th>\n",
       "      <th>irr_exit</th>\n",
       "      <th>DATETIME</th>\n",
       "    </tr>\n",
       "  </thead>\n",
       "  <tbody>\n",
       "    <tr>\n",
       "      <th>17610</th>\n",
       "      <td>PTH03 - R552 - 00-01-08 - JOURNAL SQUARE</td>\n",
       "      <td>PTH03</td>\n",
       "      <td>R552</td>\n",
       "      <td>00-01-08</td>\n",
       "      <td>JOURNAL SQUARE</td>\n",
       "      <td>1</td>\n",
       "      <td>01/01/2021</td>\n",
       "      <td>00:00:00</td>\n",
       "      <td>13725</td>\n",
       "      <td>10317</td>\n",
       "      <td>01/01/2021</td>\n",
       "      <td>13723.0</td>\n",
       "      <td>10293.0</td>\n",
       "      <td>False</td>\n",
       "      <td>False</td>\n",
       "      <td>2021-01-01 00:00:00</td>\n",
       "    </tr>\n",
       "    <tr>\n",
       "      <th>17606</th>\n",
       "      <td>PTH03 - R552 - 00-01-08 - JOURNAL SQUARE</td>\n",
       "      <td>PTH03</td>\n",
       "      <td>R552</td>\n",
       "      <td>00-01-08</td>\n",
       "      <td>JOURNAL SQUARE</td>\n",
       "      <td>1</td>\n",
       "      <td>01/01/2021</td>\n",
       "      <td>04:00:00</td>\n",
       "      <td>13708</td>\n",
       "      <td>10265</td>\n",
       "      <td>01/01/2021</td>\n",
       "      <td>13708.0</td>\n",
       "      <td>10253.0</td>\n",
       "      <td>False</td>\n",
       "      <td>False</td>\n",
       "      <td>2021-01-01 04:00:00</td>\n",
       "    </tr>\n",
       "    <tr>\n",
       "      <th>17607</th>\n",
       "      <td>PTH03 - R552 - 00-01-08 - JOURNAL SQUARE</td>\n",
       "      <td>PTH03</td>\n",
       "      <td>R552</td>\n",
       "      <td>00-01-08</td>\n",
       "      <td>JOURNAL SQUARE</td>\n",
       "      <td>1</td>\n",
       "      <td>01/01/2021</td>\n",
       "      <td>12:00:00</td>\n",
       "      <td>13711</td>\n",
       "      <td>10266</td>\n",
       "      <td>01/01/2021</td>\n",
       "      <td>13708.0</td>\n",
       "      <td>10265.0</td>\n",
       "      <td>False</td>\n",
       "      <td>False</td>\n",
       "      <td>2021-01-01 12:00:00</td>\n",
       "    </tr>\n",
       "    <tr>\n",
       "      <th>17608</th>\n",
       "      <td>PTH03 - R552 - 00-01-08 - JOURNAL SQUARE</td>\n",
       "      <td>PTH03</td>\n",
       "      <td>R552</td>\n",
       "      <td>00-01-08</td>\n",
       "      <td>JOURNAL SQUARE</td>\n",
       "      <td>1</td>\n",
       "      <td>01/01/2021</td>\n",
       "      <td>16:00:00</td>\n",
       "      <td>13717</td>\n",
       "      <td>10273</td>\n",
       "      <td>01/01/2021</td>\n",
       "      <td>13711.0</td>\n",
       "      <td>10266.0</td>\n",
       "      <td>False</td>\n",
       "      <td>False</td>\n",
       "      <td>2021-01-01 16:00:00</td>\n",
       "    </tr>\n",
       "    <tr>\n",
       "      <th>17609</th>\n",
       "      <td>PTH03 - R552 - 00-01-08 - JOURNAL SQUARE</td>\n",
       "      <td>PTH03</td>\n",
       "      <td>R552</td>\n",
       "      <td>00-01-08</td>\n",
       "      <td>JOURNAL SQUARE</td>\n",
       "      <td>1</td>\n",
       "      <td>01/01/2021</td>\n",
       "      <td>20:00:00</td>\n",
       "      <td>13723</td>\n",
       "      <td>10293</td>\n",
       "      <td>01/01/2021</td>\n",
       "      <td>13717.0</td>\n",
       "      <td>10273.0</td>\n",
       "      <td>False</td>\n",
       "      <td>False</td>\n",
       "      <td>2021-01-01 20:00:00</td>\n",
       "    </tr>\n",
       "    <tr>\n",
       "      <th>...</th>\n",
       "      <td>...</td>\n",
       "      <td>...</td>\n",
       "      <td>...</td>\n",
       "      <td>...</td>\n",
       "      <td>...</td>\n",
       "      <td>...</td>\n",
       "      <td>...</td>\n",
       "      <td>...</td>\n",
       "      <td>...</td>\n",
       "      <td>...</td>\n",
       "      <td>...</td>\n",
       "      <td>...</td>\n",
       "      <td>...</td>\n",
       "      <td>...</td>\n",
       "      <td>...</td>\n",
       "      <td>...</td>\n",
       "    </tr>\n",
       "    <tr>\n",
       "      <th>3287810</th>\n",
       "      <td>PTH03 - R552 - 00-01-08 - JOURNAL SQUARE</td>\n",
       "      <td>PTH03</td>\n",
       "      <td>R552</td>\n",
       "      <td>00-01-08</td>\n",
       "      <td>JOURNAL SQUARE</td>\n",
       "      <td>1</td>\n",
       "      <td>04/23/2021</td>\n",
       "      <td>04:00:00</td>\n",
       "      <td>26959</td>\n",
       "      <td>17513</td>\n",
       "      <td>04/23/2021</td>\n",
       "      <td>26955.0</td>\n",
       "      <td>17503.0</td>\n",
       "      <td>False</td>\n",
       "      <td>False</td>\n",
       "      <td>2021-04-23 04:00:00</td>\n",
       "    </tr>\n",
       "    <tr>\n",
       "      <th>3287811</th>\n",
       "      <td>PTH03 - R552 - 00-01-08 - JOURNAL SQUARE</td>\n",
       "      <td>PTH03</td>\n",
       "      <td>R552</td>\n",
       "      <td>00-01-08</td>\n",
       "      <td>JOURNAL SQUARE</td>\n",
       "      <td>1</td>\n",
       "      <td>04/23/2021</td>\n",
       "      <td>08:00:00</td>\n",
       "      <td>27023</td>\n",
       "      <td>17519</td>\n",
       "      <td>04/23/2021</td>\n",
       "      <td>26959.0</td>\n",
       "      <td>17513.0</td>\n",
       "      <td>False</td>\n",
       "      <td>False</td>\n",
       "      <td>2021-04-23 08:00:00</td>\n",
       "    </tr>\n",
       "    <tr>\n",
       "      <th>3287812</th>\n",
       "      <td>PTH03 - R552 - 00-01-08 - JOURNAL SQUARE</td>\n",
       "      <td>PTH03</td>\n",
       "      <td>R552</td>\n",
       "      <td>00-01-08</td>\n",
       "      <td>JOURNAL SQUARE</td>\n",
       "      <td>1</td>\n",
       "      <td>04/23/2021</td>\n",
       "      <td>12:00:00</td>\n",
       "      <td>1</td>\n",
       "      <td>0</td>\n",
       "      <td>04/23/2021</td>\n",
       "      <td>27023.0</td>\n",
       "      <td>17519.0</td>\n",
       "      <td>False</td>\n",
       "      <td>False</td>\n",
       "      <td>2021-04-23 12:00:00</td>\n",
       "    </tr>\n",
       "    <tr>\n",
       "      <th>3287813</th>\n",
       "      <td>PTH03 - R552 - 00-01-08 - JOURNAL SQUARE</td>\n",
       "      <td>PTH03</td>\n",
       "      <td>R552</td>\n",
       "      <td>00-01-08</td>\n",
       "      <td>JOURNAL SQUARE</td>\n",
       "      <td>1</td>\n",
       "      <td>04/23/2021</td>\n",
       "      <td>16:00:00</td>\n",
       "      <td>27063</td>\n",
       "      <td>17527</td>\n",
       "      <td>04/23/2021</td>\n",
       "      <td>1.0</td>\n",
       "      <td>0.0</td>\n",
       "      <td>False</td>\n",
       "      <td>False</td>\n",
       "      <td>2021-04-23 16:00:00</td>\n",
       "    </tr>\n",
       "    <tr>\n",
       "      <th>3287814</th>\n",
       "      <td>PTH03 - R552 - 00-01-08 - JOURNAL SQUARE</td>\n",
       "      <td>PTH03</td>\n",
       "      <td>R552</td>\n",
       "      <td>00-01-08</td>\n",
       "      <td>JOURNAL SQUARE</td>\n",
       "      <td>1</td>\n",
       "      <td>04/23/2021</td>\n",
       "      <td>20:00:00</td>\n",
       "      <td>27124</td>\n",
       "      <td>17538</td>\n",
       "      <td>04/23/2021</td>\n",
       "      <td>27063.0</td>\n",
       "      <td>17527.0</td>\n",
       "      <td>False</td>\n",
       "      <td>False</td>\n",
       "      <td>2021-04-23 20:00:00</td>\n",
       "    </tr>\n",
       "  </tbody>\n",
       "</table>\n",
       "<p>662 rows × 16 columns</p>\n",
       "</div>"
      ],
      "text/plain": [
       "                                       TURNSTILES    C/A  UNIT       SCP  \\\n",
       "17610    PTH03 - R552 - 00-01-08 - JOURNAL SQUARE  PTH03  R552  00-01-08   \n",
       "17606    PTH03 - R552 - 00-01-08 - JOURNAL SQUARE  PTH03  R552  00-01-08   \n",
       "17607    PTH03 - R552 - 00-01-08 - JOURNAL SQUARE  PTH03  R552  00-01-08   \n",
       "17608    PTH03 - R552 - 00-01-08 - JOURNAL SQUARE  PTH03  R552  00-01-08   \n",
       "17609    PTH03 - R552 - 00-01-08 - JOURNAL SQUARE  PTH03  R552  00-01-08   \n",
       "...                                           ...    ...   ...       ...   \n",
       "3287810  PTH03 - R552 - 00-01-08 - JOURNAL SQUARE  PTH03  R552  00-01-08   \n",
       "3287811  PTH03 - R552 - 00-01-08 - JOURNAL SQUARE  PTH03  R552  00-01-08   \n",
       "3287812  PTH03 - R552 - 00-01-08 - JOURNAL SQUARE  PTH03  R552  00-01-08   \n",
       "3287813  PTH03 - R552 - 00-01-08 - JOURNAL SQUARE  PTH03  R552  00-01-08   \n",
       "3287814  PTH03 - R552 - 00-01-08 - JOURNAL SQUARE  PTH03  R552  00-01-08   \n",
       "\n",
       "                STATION LINENAME        DATE      TIME  ENTRIES  EXITS  \\\n",
       "17610    JOURNAL SQUARE        1  01/01/2021  00:00:00    13725  10317   \n",
       "17606    JOURNAL SQUARE        1  01/01/2021  04:00:00    13708  10265   \n",
       "17607    JOURNAL SQUARE        1  01/01/2021  12:00:00    13711  10266   \n",
       "17608    JOURNAL SQUARE        1  01/01/2021  16:00:00    13717  10273   \n",
       "17609    JOURNAL SQUARE        1  01/01/2021  20:00:00    13723  10293   \n",
       "...                 ...      ...         ...       ...      ...    ...   \n",
       "3287810  JOURNAL SQUARE        1  04/23/2021  04:00:00    26959  17513   \n",
       "3287811  JOURNAL SQUARE        1  04/23/2021  08:00:00    27023  17519   \n",
       "3287812  JOURNAL SQUARE        1  04/23/2021  12:00:00        1      0   \n",
       "3287813  JOURNAL SQUARE        1  04/23/2021  16:00:00    27063  17527   \n",
       "3287814  JOURNAL SQUARE        1  04/23/2021  20:00:00    27124  17538   \n",
       "\n",
       "          PREV_DATE  PREV_ENTRIES  PREV_EXITS  irr_entry  irr_exit  \\\n",
       "17610    01/01/2021       13723.0     10293.0      False     False   \n",
       "17606    01/01/2021       13708.0     10253.0      False     False   \n",
       "17607    01/01/2021       13708.0     10265.0      False     False   \n",
       "17608    01/01/2021       13711.0     10266.0      False     False   \n",
       "17609    01/01/2021       13717.0     10273.0      False     False   \n",
       "...             ...           ...         ...        ...       ...   \n",
       "3287810  04/23/2021       26955.0     17503.0      False     False   \n",
       "3287811  04/23/2021       26959.0     17513.0      False     False   \n",
       "3287812  04/23/2021       27023.0     17519.0      False     False   \n",
       "3287813  04/23/2021           1.0         0.0      False     False   \n",
       "3287814  04/23/2021       27063.0     17527.0      False     False   \n",
       "\n",
       "                   DATETIME  \n",
       "17610   2021-01-01 00:00:00  \n",
       "17606   2021-01-01 04:00:00  \n",
       "17607   2021-01-01 12:00:00  \n",
       "17608   2021-01-01 16:00:00  \n",
       "17609   2021-01-01 20:00:00  \n",
       "...                     ...  \n",
       "3287810 2021-04-23 04:00:00  \n",
       "3287811 2021-04-23 08:00:00  \n",
       "3287812 2021-04-23 12:00:00  \n",
       "3287813 2021-04-23 16:00:00  \n",
       "3287814 2021-04-23 20:00:00  \n",
       "\n",
       "[662 rows x 16 columns]"
      ]
     },
     "execution_count": 368,
     "metadata": {},
     "output_type": "execute_result"
    }
   ],
   "source": [
    "clean_turnstile_df_21[clean_turnstile_df_21['TURNSTILES'] == 'PTH03 - R552 - 00-01-08 - JOURNAL SQUARE']"
   ]
  },
  {
   "cell_type": "code",
   "execution_count": null,
   "metadata": {},
   "outputs": [],
   "source": []
  },
  {
   "cell_type": "markdown",
   "metadata": {},
   "source": [
    "# DATA ANALYSIS WITH ONLY TURNSTILE DATA\n",
    "\n",
    "After finding the entries and exits values, we can combine the two values to find the total traffic for a particular turnstile at a time in day. \n",
    "\n",
    "Questions:\n",
    "\n",
    "1. Find the top 20 stations with the highest number of exits, enteries, traffic\n",
    "    - Now find the top stations with only one or two lines with the highest number of exits, entries, traffic\n",
    "2. Using the results from question one, we find the stations with highest exits, entries, traffics for time ranges 8-12, 12-4, 4-8 *meal hours\n",
    "    \n",
    "    - Which stations have the most entries around 8-12 am\n",
    "    - Which stations have the most exits around 4-8pm pm\n",
    " \n",
    "    \n",
    "    - Which stations have the most exits around 8-12 am?\n",
    "    - Which stations have the most entriess around 4 - 8 pm? \n",
    "    \n",
    "3. Find the average total of exits, entries, traffic for each weekday\n",
    "    - Do entries = exits?\n",
    "    - Is traffic consistent throughout the weekdays\n",
    "    - Using total traffic establish percentage of people in certain stations?\n"
   ]
  },
  {
   "cell_type": "markdown",
   "metadata": {},
   "source": [
    "# DATA VIZUALIZATIONS WITH ONLY TURNSTILE DATA\n",
    "\n",
    "Plot the answers to the questions to itentify insights and potential gaps in data.\n",
    "\n",
    "- Bar Chart -> Top 20 stations highest exits, entries, traffic \n",
    "- Line chart -> Consistency of Entries and Exits over time for a station (We're looking for consistent traffic)\n",
    "- Scatter Plot -> Exits versus Entries for a particular station \n",
    "- Heatmat -> Traffic flow during the weekday by TIME of a particular station"
   ]
  },
  {
   "cell_type": "markdown",
   "metadata": {},
   "source": [
    "# ADDING FARE AND LOCATION DATASETS"
   ]
  },
  {
   "cell_type": "markdown",
   "metadata": {},
   "source": [
    "# CONCLUSION"
   ]
  },
  {
   "cell_type": "markdown",
   "metadata": {},
   "source": [
    "# FUTURE IDEAS"
   ]
  }
 ],
 "metadata": {
  "kernelspec": {
   "display_name": "Python 3",
   "language": "python",
   "name": "python3"
  },
  "language_info": {
   "codemirror_mode": {
    "name": "ipython",
    "version": 3
   },
   "file_extension": ".py",
   "mimetype": "text/x-python",
   "name": "python",
   "nbconvert_exporter": "python",
   "pygments_lexer": "ipython3",
   "version": "3.8.5"
  }
 },
 "nbformat": 4,
 "nbformat_minor": 4
}
